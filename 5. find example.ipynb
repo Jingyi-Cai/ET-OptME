{
 "cells": [
  {
   "cell_type": "markdown",
   "metadata": {},
   "source": [
    "## Import package"
   ]
  },
  {
   "cell_type": "code",
   "execution_count": null,
   "metadata": {},
   "outputs": [],
   "source": [
    "import sys\n",
    "sys.path.append('/ET_OptME/script')\n",
    "import ETGEMs_function_protain as etgf\n",
    "from ETGEMs_function_protain import *\n",
    "from ET_optme import *\n",
    "import pandas as pd\n",
    "import cobra\n",
    "import gurobipy\n",
    "import json\n",
    "import multiprocessing\n",
    "import os\n",
    "from multiprocessing import Pool\n",
    "from sympy import subsets\n",
    "import pandas as pd\n",
    "import matplotlib.pyplot as plt\n",
    "import re"
   ]
  },
  {
   "cell_type": "markdown",
   "metadata": {},
   "source": [
    "## Find examples of advantages (validate the universality of advantages)"
   ]
  },
  {
   "cell_type": "markdown",
   "metadata": {},
   "source": [
    "## 1.OptForce: overlaped Reaction Range  ET-OptForce:Separated Enzyme Concentration Range"
   ]
  },
  {
   "cell_type": "code",
   "execution_count": null,
   "metadata": {},
   "outputs": [
    {
     "name": "stdout",
     "output_type": "stream",
     "text": [
      "Processed folder: ala, unique genes saved to: /home/sun/ETGEMS-10.20/ET_OptME/result/ET_Optme/result/ala/save_solution.csv, number of unique genes: 98\n",
      "Processed folder: ala_b, unique genes saved to: /home/sun/ETGEMS-10.20/ET_OptME/result/ET_Optme/result/ala_b/save_solution.csv, number of unique genes: 86\n",
      "Processed folder: glu, unique genes saved to: /home/sun/ETGEMS-10.20/ET_OptME/result/ET_Optme/result/glu/save_solution.csv, number of unique genes: 95\n",
      "Processed folder: lys, unique genes saved to: /home/sun/ETGEMS-10.20/ET_OptME/result/ET_Optme/result/lys/save_solution.csv, number of unique genes: 101\n",
      "Processed folder: val, unique genes saved to: /home/sun/ETGEMS-10.20/ET_OptME/result/ET_Optme/result/val/save_solution.csv, number of unique genes: 93\n",
      "All folders processed.\n"
     ]
    }
   ],
   "source": [
    "# New version 8.4\n",
    "import os\n",
    "import pandas as pd\n",
    "\n",
    "base_dir = './result/ET_Optme/result'\n",
    "\n",
    "# Traverse all folders in base_dir that do not start with 'F'\n",
    "for folder_name in os.listdir(base_dir):\n",
    "    folder_path = os.path.join(base_dir, folder_name)\n",
    "    if os.path.isdir(folder_path) and not folder_name.startswith('F'):\n",
    "        results_s_path = os.path.join(folder_path, 'results_S.xlsx')\n",
    "        results_et_path = os.path.join(folder_path, 'results_ET.xlsx')\n",
    "\n",
    "        if os.path.exists(results_s_path) and os.path.exists(results_et_path):\n",
    "            # Read the Excel files\n",
    "            df = pd.read_excel(results_s_path)\n",
    "            et_df = pd.read_excel(results_et_path)\n",
    "\n",
    "            # Drop specified columns\n",
    "            if 'Unnamed: 0.1' in df.columns:\n",
    "                df = df.drop('Unnamed: 0.1', axis=1)\n",
    "            if 'Unnamed: 0' in df.columns:\n",
    "                df = df.drop('Unnamed: 0', axis=1)\n",
    "            if 'Unnamed: 0.1' in et_df.columns:\n",
    "                et_df = et_df.drop('Unnamed: 0.1', axis=1)\n",
    "            if 'Unnamed: 0' in et_df.columns:\n",
    "                et_df = et_df.drop('Unnamed: 0', axis=1)\n",
    "\n",
    "            # Filter rows where the 'manipulations' column is 'down' or 'Up'\n",
    "            s_df = df[(df['manipulations'] == 'down') | (df['manipulations'] == 'Up')]\n",
    "            etm_df = et_df[(et_df['manipulations'] == 'down') | (et_df['manipulations'] == 'Up')]\n",
    "\n",
    "            # Find unique genes in et_df\n",
    "            unique_genes = etm_df[~etm_df['gene'].isin(s_df['gene'])]\n",
    "\n",
    "            # Extract all gene names from the gene column in the unique_genes DataFrame\n",
    "            genes = unique_genes['gene'].unique()\n",
    "\n",
    "            # Find corresponding reaction, flux_wild, and flux_over rows in df for the same genes\n",
    "            filtered_df = df[df['gene'].isin(genes)]\n",
    "\n",
    "            # Merge data\n",
    "            merged_df = pd.merge(unique_genes, filtered_df, on='gene', how='left')\n",
    "\n",
    "            # Fill NaN values with an empty string\n",
    "            merged_df['reaction'] = merged_df['reaction'].fillna('')\n",
    "\n",
    "            # Remove rows where the 'reaction' column contains 'reverse'\n",
    "            merged_df = merged_df[~merged_df['reaction'].str.contains('reverse')]\n",
    "\n",
    "            # Add 'type' column and assign value 'Overlaped Reaction Range'\n",
    "            merged_df['type'] = 'Overlaped Reaction Range'\n",
    "\n",
    "            # Save the results to the corresponding folder\n",
    "            output_path = os.path.join(folder_path, 'save_solution.csv')\n",
    "            merged_df.to_csv(output_path, index=False)\n",
    "\n",
    "            # Print the number of rows in merged_df\n",
    "            print(f\"Processed folder: {folder_name}, unique genes saved to: {output_path}, number of unique genes: {len(merged_df)}\")\n",
    "\n",
    "print(\"All folders processed.\")\n"
   ]
  },
  {
   "cell_type": "markdown",
   "metadata": {},
   "source": [
    "## 2.FSEOF:lack of monotonicity.  ET-FSEOF: Improved monotonicity"
   ]
  },
  {
   "cell_type": "code",
   "execution_count": null,
   "metadata": {},
   "outputs": [
    {
     "name": "stderr",
     "output_type": "stream",
     "text": [
      "/tmp/ipykernel_33280/3122747209.py:69: SettingWithCopyWarning: \n",
      "A value is trying to be set on a copy of a slice from a DataFrame.\n",
      "Try using .loc[row_indexer,col_indexer] = value instead\n",
      "\n",
      "See the caveats in the documentation: https://pandas.pydata.org/pandas-docs/stable/user_guide/indexing.html#returning-a-view-versus-a-copy\n",
      "  s_rxn_df[['gpr', 'equation']] = s_rxn_df['reaction'].apply(lambda x: pd.Series(get_reaction_details(model, x)))\n",
      "/tmp/ipykernel_33280/3122747209.py:69: SettingWithCopyWarning: \n",
      "A value is trying to be set on a copy of a slice from a DataFrame.\n",
      "Try using .loc[row_indexer,col_indexer] = value instead\n",
      "\n",
      "See the caveats in the documentation: https://pandas.pydata.org/pandas-docs/stable/user_guide/indexing.html#returning-a-view-versus-a-copy\n",
      "  s_rxn_df[['gpr', 'equation']] = s_rxn_df['reaction'].apply(lambda x: pd.Series(get_reaction_details(model, x)))\n",
      "/tmp/ipykernel_33280/3122747209.py:70: SettingWithCopyWarning: \n",
      "A value is trying to be set on a copy of a slice from a DataFrame\n",
      "\n",
      "See the caveats in the documentation: https://pandas.pydata.org/pandas-docs/stable/user_guide/indexing.html#returning-a-view-versus-a-copy\n",
      "  s_rxn_df.drop(s_rxn_df.columns[-5:-1], axis=1, inplace=True)\n",
      "/tmp/ipykernel_33280/3122747209.py:71: SettingWithCopyWarning: \n",
      "A value is trying to be set on a copy of a slice from a DataFrame\n",
      "\n",
      "See the caveats in the documentation: https://pandas.pydata.org/pandas-docs/stable/user_guide/indexing.html#returning-a-view-versus-a-copy\n",
      "  s_rxn_df.rename(columns={'gpr': 'gene'}, inplace=True)\n"
     ]
    },
    {
     "name": "stdout",
     "output_type": "stream",
     "text": [
      "Processed folder: F_ala, unique genes saved to: /home/sun/ETGEMS-10.20/ET_OptME/result/ET_Optme/结果分析/result/F_ala/save_solution.xlsx, number of unique genes: 83\n"
     ]
    },
    {
     "name": "stderr",
     "output_type": "stream",
     "text": [
      "/tmp/ipykernel_33280/3122747209.py:69: SettingWithCopyWarning: \n",
      "A value is trying to be set on a copy of a slice from a DataFrame.\n",
      "Try using .loc[row_indexer,col_indexer] = value instead\n",
      "\n",
      "See the caveats in the documentation: https://pandas.pydata.org/pandas-docs/stable/user_guide/indexing.html#returning-a-view-versus-a-copy\n",
      "  s_rxn_df[['gpr', 'equation']] = s_rxn_df['reaction'].apply(lambda x: pd.Series(get_reaction_details(model, x)))\n",
      "/tmp/ipykernel_33280/3122747209.py:70: SettingWithCopyWarning: \n",
      "A value is trying to be set on a copy of a slice from a DataFrame\n",
      "\n",
      "See the caveats in the documentation: https://pandas.pydata.org/pandas-docs/stable/user_guide/indexing.html#returning-a-view-versus-a-copy\n",
      "  s_rxn_df.drop(s_rxn_df.columns[-5:-1], axis=1, inplace=True)\n",
      "/tmp/ipykernel_33280/3122747209.py:71: SettingWithCopyWarning: \n",
      "A value is trying to be set on a copy of a slice from a DataFrame\n",
      "\n",
      "See the caveats in the documentation: https://pandas.pydata.org/pandas-docs/stable/user_guide/indexing.html#returning-a-view-versus-a-copy\n",
      "  s_rxn_df.rename(columns={'gpr': 'gene'}, inplace=True)\n"
     ]
    },
    {
     "name": "stdout",
     "output_type": "stream",
     "text": [
      "Processed folder: F_glu, unique genes saved to: /home/sun/ETGEMS-10.20/ET_OptME/result/ET_Optme/结果分析/result/F_glu/save_solution.xlsx, number of unique genes: 2\n"
     ]
    },
    {
     "name": "stderr",
     "output_type": "stream",
     "text": [
      "/tmp/ipykernel_33280/3122747209.py:69: SettingWithCopyWarning: \n",
      "A value is trying to be set on a copy of a slice from a DataFrame.\n",
      "Try using .loc[row_indexer,col_indexer] = value instead\n",
      "\n",
      "See the caveats in the documentation: https://pandas.pydata.org/pandas-docs/stable/user_guide/indexing.html#returning-a-view-versus-a-copy\n",
      "  s_rxn_df[['gpr', 'equation']] = s_rxn_df['reaction'].apply(lambda x: pd.Series(get_reaction_details(model, x)))\n",
      "/tmp/ipykernel_33280/3122747209.py:69: SettingWithCopyWarning: \n",
      "A value is trying to be set on a copy of a slice from a DataFrame.\n",
      "Try using .loc[row_indexer,col_indexer] = value instead\n",
      "\n",
      "See the caveats in the documentation: https://pandas.pydata.org/pandas-docs/stable/user_guide/indexing.html#returning-a-view-versus-a-copy\n",
      "  s_rxn_df[['gpr', 'equation']] = s_rxn_df['reaction'].apply(lambda x: pd.Series(get_reaction_details(model, x)))\n",
      "/tmp/ipykernel_33280/3122747209.py:70: SettingWithCopyWarning: \n",
      "A value is trying to be set on a copy of a slice from a DataFrame\n",
      "\n",
      "See the caveats in the documentation: https://pandas.pydata.org/pandas-docs/stable/user_guide/indexing.html#returning-a-view-versus-a-copy\n",
      "  s_rxn_df.drop(s_rxn_df.columns[-5:-1], axis=1, inplace=True)\n",
      "/tmp/ipykernel_33280/3122747209.py:71: SettingWithCopyWarning: \n",
      "A value is trying to be set on a copy of a slice from a DataFrame\n",
      "\n",
      "See the caveats in the documentation: https://pandas.pydata.org/pandas-docs/stable/user_guide/indexing.html#returning-a-view-versus-a-copy\n",
      "  s_rxn_df.rename(columns={'gpr': 'gene'}, inplace=True)\n"
     ]
    },
    {
     "name": "stdout",
     "output_type": "stream",
     "text": [
      "Processed folder: F_ile, unique genes saved to: /home/sun/ETGEMS-10.20/ET_OptME/result/ET_Optme/结果分析/result/F_ile/save_solution.xlsx, number of unique genes: 15\n"
     ]
    },
    {
     "name": "stderr",
     "output_type": "stream",
     "text": [
      "/tmp/ipykernel_33280/3122747209.py:69: SettingWithCopyWarning: \n",
      "A value is trying to be set on a copy of a slice from a DataFrame.\n",
      "Try using .loc[row_indexer,col_indexer] = value instead\n",
      "\n",
      "See the caveats in the documentation: https://pandas.pydata.org/pandas-docs/stable/user_guide/indexing.html#returning-a-view-versus-a-copy\n",
      "  s_rxn_df[['gpr', 'equation']] = s_rxn_df['reaction'].apply(lambda x: pd.Series(get_reaction_details(model, x)))\n",
      "/tmp/ipykernel_33280/3122747209.py:69: SettingWithCopyWarning: \n",
      "A value is trying to be set on a copy of a slice from a DataFrame.\n",
      "Try using .loc[row_indexer,col_indexer] = value instead\n",
      "\n",
      "See the caveats in the documentation: https://pandas.pydata.org/pandas-docs/stable/user_guide/indexing.html#returning-a-view-versus-a-copy\n",
      "  s_rxn_df[['gpr', 'equation']] = s_rxn_df['reaction'].apply(lambda x: pd.Series(get_reaction_details(model, x)))\n",
      "/tmp/ipykernel_33280/3122747209.py:70: SettingWithCopyWarning: \n",
      "A value is trying to be set on a copy of a slice from a DataFrame\n",
      "\n",
      "See the caveats in the documentation: https://pandas.pydata.org/pandas-docs/stable/user_guide/indexing.html#returning-a-view-versus-a-copy\n",
      "  s_rxn_df.drop(s_rxn_df.columns[-5:-1], axis=1, inplace=True)\n",
      "/tmp/ipykernel_33280/3122747209.py:71: SettingWithCopyWarning: \n",
      "A value is trying to be set on a copy of a slice from a DataFrame\n",
      "\n",
      "See the caveats in the documentation: https://pandas.pydata.org/pandas-docs/stable/user_guide/indexing.html#returning-a-view-versus-a-copy\n",
      "  s_rxn_df.rename(columns={'gpr': 'gene'}, inplace=True)\n"
     ]
    },
    {
     "name": "stdout",
     "output_type": "stream",
     "text": [
      "Processed folder: F_lys, unique genes saved to: /home/sun/ETGEMS-10.20/ET_OptME/result/ET_Optme/结果分析/result/F_lys/save_solution.xlsx, number of unique genes: 14\n"
     ]
    },
    {
     "name": "stderr",
     "output_type": "stream",
     "text": [
      "/tmp/ipykernel_33280/3122747209.py:69: SettingWithCopyWarning: \n",
      "A value is trying to be set on a copy of a slice from a DataFrame.\n",
      "Try using .loc[row_indexer,col_indexer] = value instead\n",
      "\n",
      "See the caveats in the documentation: https://pandas.pydata.org/pandas-docs/stable/user_guide/indexing.html#returning-a-view-versus-a-copy\n",
      "  s_rxn_df[['gpr', 'equation']] = s_rxn_df['reaction'].apply(lambda x: pd.Series(get_reaction_details(model, x)))\n",
      "/tmp/ipykernel_33280/3122747209.py:69: SettingWithCopyWarning: \n",
      "A value is trying to be set on a copy of a slice from a DataFrame.\n",
      "Try using .loc[row_indexer,col_indexer] = value instead\n",
      "\n",
      "See the caveats in the documentation: https://pandas.pydata.org/pandas-docs/stable/user_guide/indexing.html#returning-a-view-versus-a-copy\n",
      "  s_rxn_df[['gpr', 'equation']] = s_rxn_df['reaction'].apply(lambda x: pd.Series(get_reaction_details(model, x)))\n",
      "/tmp/ipykernel_33280/3122747209.py:70: SettingWithCopyWarning: \n",
      "A value is trying to be set on a copy of a slice from a DataFrame\n",
      "\n",
      "See the caveats in the documentation: https://pandas.pydata.org/pandas-docs/stable/user_guide/indexing.html#returning-a-view-versus-a-copy\n",
      "  s_rxn_df.drop(s_rxn_df.columns[-5:-1], axis=1, inplace=True)\n",
      "/tmp/ipykernel_33280/3122747209.py:71: SettingWithCopyWarning: \n",
      "A value is trying to be set on a copy of a slice from a DataFrame\n",
      "\n",
      "See the caveats in the documentation: https://pandas.pydata.org/pandas-docs/stable/user_guide/indexing.html#returning-a-view-versus-a-copy\n",
      "  s_rxn_df.rename(columns={'gpr': 'gene'}, inplace=True)\n"
     ]
    },
    {
     "name": "stdout",
     "output_type": "stream",
     "text": [
      "Processed folder: F_val, unique genes saved to: /home/sun/ETGEMS-10.20/ET_OptME/result/ET_Optme/结果分析/result/F_val/save_solution.xlsx, number of unique genes: 19\n"
     ]
    },
    {
     "name": "stderr",
     "output_type": "stream",
     "text": [
      "/tmp/ipykernel_33280/3122747209.py:69: SettingWithCopyWarning: \n",
      "A value is trying to be set on a copy of a slice from a DataFrame.\n",
      "Try using .loc[row_indexer,col_indexer] = value instead\n",
      "\n",
      "See the caveats in the documentation: https://pandas.pydata.org/pandas-docs/stable/user_guide/indexing.html#returning-a-view-versus-a-copy\n",
      "  s_rxn_df[['gpr', 'equation']] = s_rxn_df['reaction'].apply(lambda x: pd.Series(get_reaction_details(model, x)))\n",
      "/tmp/ipykernel_33280/3122747209.py:69: SettingWithCopyWarning: \n",
      "A value is trying to be set on a copy of a slice from a DataFrame.\n",
      "Try using .loc[row_indexer,col_indexer] = value instead\n",
      "\n",
      "See the caveats in the documentation: https://pandas.pydata.org/pandas-docs/stable/user_guide/indexing.html#returning-a-view-versus-a-copy\n",
      "  s_rxn_df[['gpr', 'equation']] = s_rxn_df['reaction'].apply(lambda x: pd.Series(get_reaction_details(model, x)))\n",
      "/tmp/ipykernel_33280/3122747209.py:70: SettingWithCopyWarning: \n",
      "A value is trying to be set on a copy of a slice from a DataFrame\n",
      "\n",
      "See the caveats in the documentation: https://pandas.pydata.org/pandas-docs/stable/user_guide/indexing.html#returning-a-view-versus-a-copy\n",
      "  s_rxn_df.drop(s_rxn_df.columns[-5:-1], axis=1, inplace=True)\n",
      "/tmp/ipykernel_33280/3122747209.py:71: SettingWithCopyWarning: \n",
      "A value is trying to be set on a copy of a slice from a DataFrame\n",
      "\n",
      "See the caveats in the documentation: https://pandas.pydata.org/pandas-docs/stable/user_guide/indexing.html#returning-a-view-versus-a-copy\n",
      "  s_rxn_df.rename(columns={'gpr': 'gene'}, inplace=True)\n"
     ]
    },
    {
     "name": "stdout",
     "output_type": "stream",
     "text": [
      "Processed folder: F_ala_b, unique genes saved to: /home/sun/ETGEMS-10.20/ET_OptME/result/ET_Optme/结果分析/result/F_ala_b/save_solution.xlsx, number of unique genes: 221\n"
     ]
    },
    {
     "name": "stderr",
     "output_type": "stream",
     "text": [
      "/tmp/ipykernel_33280/3122747209.py:69: SettingWithCopyWarning: \n",
      "A value is trying to be set on a copy of a slice from a DataFrame.\n",
      "Try using .loc[row_indexer,col_indexer] = value instead\n",
      "\n",
      "See the caveats in the documentation: https://pandas.pydata.org/pandas-docs/stable/user_guide/indexing.html#returning-a-view-versus-a-copy\n",
      "  s_rxn_df[['gpr', 'equation']] = s_rxn_df['reaction'].apply(lambda x: pd.Series(get_reaction_details(model, x)))\n",
      "/tmp/ipykernel_33280/3122747209.py:69: SettingWithCopyWarning: \n",
      "A value is trying to be set on a copy of a slice from a DataFrame.\n",
      "Try using .loc[row_indexer,col_indexer] = value instead\n",
      "\n",
      "See the caveats in the documentation: https://pandas.pydata.org/pandas-docs/stable/user_guide/indexing.html#returning-a-view-versus-a-copy\n",
      "  s_rxn_df[['gpr', 'equation']] = s_rxn_df['reaction'].apply(lambda x: pd.Series(get_reaction_details(model, x)))\n",
      "/tmp/ipykernel_33280/3122747209.py:70: SettingWithCopyWarning: \n",
      "A value is trying to be set on a copy of a slice from a DataFrame\n",
      "\n",
      "See the caveats in the documentation: https://pandas.pydata.org/pandas-docs/stable/user_guide/indexing.html#returning-a-view-versus-a-copy\n",
      "  s_rxn_df.drop(s_rxn_df.columns[-5:-1], axis=1, inplace=True)\n",
      "/tmp/ipykernel_33280/3122747209.py:71: SettingWithCopyWarning: \n",
      "A value is trying to be set on a copy of a slice from a DataFrame\n",
      "\n",
      "See the caveats in the documentation: https://pandas.pydata.org/pandas-docs/stable/user_guide/indexing.html#returning-a-view-versus-a-copy\n",
      "  s_rxn_df.rename(columns={'gpr': 'gene'}, inplace=True)\n"
     ]
    },
    {
     "name": "stdout",
     "output_type": "stream",
     "text": [
      "Processed folder: F_hom, unique genes saved to: /home/sun/ETGEMS-10.20/ET_OptME/result/ET_Optme/结果分析/result/F_hom/save_solution.xlsx, number of unique genes: 231\n",
      "All folders processed.\n"
     ]
    }
   ],
   "source": [
    "import os\n",
    "import pandas as pd\n",
    "from cobra.io import read_sbml_model\n",
    "\n",
    "base_dir = './result/ET_Optme/result'\n",
    "# Traverse all folders in base_dir that start with 'F'\n",
    "for folder_name in os.listdir(base_dir):\n",
    "    folder_path = os.path.join(base_dir, folder_name)\n",
    "    if os.path.isdir(folder_path) and folder_name.startswith('F'):\n",
    "        results_s_path = os.path.join(folder_path, 'results_S.xlsx')\n",
    "        results_et_path = os.path.join(folder_path, 'results_SET.xlsx')\n",
    "\n",
    "        if os.path.exists(results_s_path) and os.path.exists(results_et_path):\n",
    "            # Read the Excel files\n",
    "            f_df = pd.read_excel(results_et_path)\n",
    "            sfdf = pd.read_excel(results_s_path)\n",
    "\n",
    "            # Drop specified columns\n",
    "            if 'Unnamed: 0.1' in f_df.columns:\n",
    "                f_df = f_df.drop('Unnamed: 0.1', axis=1)\n",
    "            if 'Unnamed: 0' in f_df.columns:\n",
    "                f_df = f_df.drop('Unnamed: 0', axis=1)\n",
    "            if 'Unnamed: 0' in sfdf.columns:\n",
    "                sfdf = sfdf.drop('Unnamed: 0', axis=1)\n",
    "\n",
    "            # Filter rows where the 'manipulations' column is 'down' or 'up'\n",
    "            f_df = f_df[(f_df['manipulations'] == 'down') | (f_df['manipulations'] == 'up')]\n",
    "            sfdf = sfdf[(sfdf['manipulation'] == 'down') | (sfdf['manipulation'] == 'up')]\n",
    "\n",
    "            # Delete the last few specified columns\n",
    "            cols_to_delete = f_df.columns[-11:-1]\n",
    "            f_df = f_df.drop(columns=cols_to_delete)\n",
    "\n",
    "            f_gene = f_df['gene'].to_list()\n",
    "            reactions_from_sfdf = set(sfdf['reaction'])\n",
    "            reaction_genes_dict = {}\n",
    "\n",
    "            for reaction_id in reactions_from_sfdf:\n",
    "                # Find genes corresponding to the reaction ID\n",
    "                genes = get_genes_for_reaction(model, reaction_id)\n",
    "                # Store the reaction ID and gene set in the dictionary\n",
    "                reaction_genes_dict[reaction_id] = genes\n",
    "\n",
    "            all_genes = set()\n",
    "            for genes in reaction_genes_dict.values():\n",
    "                if isinstance(genes, set):\n",
    "                    all_genes.update(genes)\n",
    "                else:\n",
    "                    all_genes.add(genes)\n",
    "\n",
    "            # Find unique genes in f_gene:SET\n",
    "            unique_f_gene = [gene for gene in f_gene if gene not in all_genes]\n",
    "            # Find rows in f_df corresponding to unique_f_gene genes\n",
    "            unique_f_gene_df = f_df[f_df['gene'].isin(unique_f_gene)]\n",
    "\n",
    "            # Filter reactions corresponding to genes\n",
    "            reaction_set = set()\n",
    "            for gene_rule in unique_f_gene:\n",
    "                if 'and' in gene_rule or 'or' in gene_rule:\n",
    "                    gene_ids = re.split(r'\\band\\b|\\bor\\b', gene_rule)\n",
    "                    for gene_id in gene_ids:\n",
    "                        add_reactions_to_set(model, gene_id, reaction_set)\n",
    "                else:\n",
    "                    add_reactions_to_set(model, gene_rule, reaction_set)\n",
    "\n",
    "            sfdf = pd.read_excel(results_s_path)\n",
    "            s_rxn_df = sfdf[sfdf['reaction'].isin(reaction_set)]\n",
    "            s_rxn_df[['gpr', 'equation']] = s_rxn_df['reaction'].apply(lambda x: pd.Series(get_reaction_details(model, x)))\n",
    "            s_rxn_df.drop(s_rxn_df.columns[-5:-1], axis=1, inplace=True)\n",
    "            s_rxn_df.rename(columns={'gpr': 'gene'}, inplace=True)\n",
    "\n",
    "            # Merge data\n",
    "            merged_df_f = pd.merge(unique_f_gene_df, s_rxn_df, on='gene', how='left')\n",
    "            merged_df_f['reaction'] = merged_df_f['reaction'].fillna('')\n",
    "            merged_df_f = merged_df_f[~merged_df_f['reaction'].str.contains('reverse')]\n",
    "            merged_df_f['type'] = 'lack of monotonicity'\n",
    "\n",
    "            file_path = os.path.join(folder_path, 'save_solution.xlsx')\n",
    "            with pd.ExcelWriter(file_path) as writer:\n",
    "                merged_df_f.to_excel(writer, sheet_name='imperfection', index=False)\n",
    "                unique_f_gene_df.to_excel(writer, sheet_name='unique_etm_genes', index=False)\n",
    "\n",
    "            print(f\"Processed folder: {folder_name}, unique genes saved to: {file_path}, number of unique genes: {len(merged_df_f)}\")\n",
    "\n",
    "print(\"All folders processed.\")\n"
   ]
  },
  {
   "cell_type": "markdown",
   "metadata": {},
   "source": [
    "## 3. FSEOF:Non-unique Reaction Direction. ET-FSEOF:One Reaction Direction."
   ]
  },
  {
   "cell_type": "code",
   "execution_count": null,
   "metadata": {},
   "outputs": [
    {
     "name": "stderr",
     "output_type": "stream",
     "text": [
      "/tmp/ipykernel_33280/1027149668.py:51: SettingWithCopyWarning: \n",
      "A value is trying to be set on a copy of a slice from a DataFrame\n",
      "\n",
      "See the caveats in the documentation: https://pandas.pydata.org/pandas-docs/stable/user_guide/indexing.html#returning-a-view-versus-a-copy\n",
      "  filtered_df.rename(columns={'gpr': 'gene'}, inplace=True)\n"
     ]
    },
    {
     "name": "stdout",
     "output_type": "stream",
     "text": [
      "Processed: /home/sun/ETGEMS-10.20/ET_OptME/result/ET_Optme/结果分析/result/FSEOF_ala/results_S.xlsx -> /home/sun/ETGEMS-10.20/ET_OptME/result/ET_Optme/结果分析/result/FSEOF_ala/filtered_results.xlsx, Number of rows: 2\n"
     ]
    },
    {
     "name": "stderr",
     "output_type": "stream",
     "text": [
      "/tmp/ipykernel_33280/1027149668.py:51: SettingWithCopyWarning: \n",
      "A value is trying to be set on a copy of a slice from a DataFrame\n",
      "\n",
      "See the caveats in the documentation: https://pandas.pydata.org/pandas-docs/stable/user_guide/indexing.html#returning-a-view-versus-a-copy\n",
      "  filtered_df.rename(columns={'gpr': 'gene'}, inplace=True)\n"
     ]
    },
    {
     "name": "stdout",
     "output_type": "stream",
     "text": [
      "Processed: /home/sun/ETGEMS-10.20/ET_OptME/result/ET_Optme/结果分析/result/FSEOF_ala_b/results_S.xlsx -> /home/sun/ETGEMS-10.20/ET_OptME/result/ET_Optme/结果分析/result/FSEOF_ala_b/filtered_results.xlsx, Number of rows: 1\n"
     ]
    },
    {
     "name": "stderr",
     "output_type": "stream",
     "text": [
      "/tmp/ipykernel_33280/1027149668.py:51: SettingWithCopyWarning: \n",
      "A value is trying to be set on a copy of a slice from a DataFrame\n",
      "\n",
      "See the caveats in the documentation: https://pandas.pydata.org/pandas-docs/stable/user_guide/indexing.html#returning-a-view-versus-a-copy\n",
      "  filtered_df.rename(columns={'gpr': 'gene'}, inplace=True)\n"
     ]
    },
    {
     "name": "stdout",
     "output_type": "stream",
     "text": [
      "Processed: /home/sun/ETGEMS-10.20/ET_OptME/result/ET_Optme/结果分析/result/FSEOF_glu/results_S.xlsx -> /home/sun/ETGEMS-10.20/ET_OptME/result/ET_Optme/结果分析/result/FSEOF_glu/filtered_results.xlsx, Number of rows: 0\n"
     ]
    },
    {
     "name": "stderr",
     "output_type": "stream",
     "text": [
      "/tmp/ipykernel_33280/1027149668.py:51: SettingWithCopyWarning: \n",
      "A value is trying to be set on a copy of a slice from a DataFrame\n",
      "\n",
      "See the caveats in the documentation: https://pandas.pydata.org/pandas-docs/stable/user_guide/indexing.html#returning-a-view-versus-a-copy\n",
      "  filtered_df.rename(columns={'gpr': 'gene'}, inplace=True)\n"
     ]
    },
    {
     "name": "stdout",
     "output_type": "stream",
     "text": [
      "Processed: /home/sun/ETGEMS-10.20/ET_OptME/result/ET_Optme/结果分析/result/FSEOF_hom/results_S.xlsx -> /home/sun/ETGEMS-10.20/ET_OptME/result/ET_Optme/结果分析/result/FSEOF_hom/filtered_results.xlsx, Number of rows: 2\n"
     ]
    },
    {
     "name": "stderr",
     "output_type": "stream",
     "text": [
      "/tmp/ipykernel_33280/1027149668.py:51: SettingWithCopyWarning: \n",
      "A value is trying to be set on a copy of a slice from a DataFrame\n",
      "\n",
      "See the caveats in the documentation: https://pandas.pydata.org/pandas-docs/stable/user_guide/indexing.html#returning-a-view-versus-a-copy\n",
      "  filtered_df.rename(columns={'gpr': 'gene'}, inplace=True)\n"
     ]
    },
    {
     "name": "stdout",
     "output_type": "stream",
     "text": [
      "Processed: /home/sun/ETGEMS-10.20/ET_OptME/result/ET_Optme/结果分析/result/FSEOF_ile/results_S.xlsx -> /home/sun/ETGEMS-10.20/ET_OptME/result/ET_Optme/结果分析/result/FSEOF_ile/filtered_results.xlsx, Number of rows: 2\n"
     ]
    },
    {
     "name": "stderr",
     "output_type": "stream",
     "text": [
      "/tmp/ipykernel_33280/1027149668.py:51: SettingWithCopyWarning: \n",
      "A value is trying to be set on a copy of a slice from a DataFrame\n",
      "\n",
      "See the caveats in the documentation: https://pandas.pydata.org/pandas-docs/stable/user_guide/indexing.html#returning-a-view-versus-a-copy\n",
      "  filtered_df.rename(columns={'gpr': 'gene'}, inplace=True)\n"
     ]
    },
    {
     "name": "stdout",
     "output_type": "stream",
     "text": [
      "Processed: /home/sun/ETGEMS-10.20/ET_OptME/result/ET_Optme/结果分析/result/FSEOF_lys/results_S.xlsx -> /home/sun/ETGEMS-10.20/ET_OptME/result/ET_Optme/结果分析/result/FSEOF_lys/filtered_results.xlsx, Number of rows: 1\n"
     ]
    },
    {
     "name": "stderr",
     "output_type": "stream",
     "text": [
      "/tmp/ipykernel_33280/1027149668.py:51: SettingWithCopyWarning: \n",
      "A value is trying to be set on a copy of a slice from a DataFrame\n",
      "\n",
      "See the caveats in the documentation: https://pandas.pydata.org/pandas-docs/stable/user_guide/indexing.html#returning-a-view-versus-a-copy\n",
      "  filtered_df.rename(columns={'gpr': 'gene'}, inplace=True)\n"
     ]
    },
    {
     "name": "stdout",
     "output_type": "stream",
     "text": [
      "Processed: /home/sun/ETGEMS-10.20/ET_OptME/result/ET_Optme/结果分析/result/FSEOF_val/results_S.xlsx -> /home/sun/ETGEMS-10.20/ET_OptME/result/ET_Optme/结果分析/result/FSEOF_val/filtered_results.xlsx, Number of rows: 1\n"
     ]
    }
   ],
   "source": [
    "import os\n",
    "import pandas as pd\n",
    "\n",
    "# Define the root directory\n",
    "root_directory = './ET_OptME/result/ET_Optme/结果分析/result'\n",
    "\n",
    "# Traverse the folders and find those containing \"FSEOF\"\n",
    "for folder_name in os.listdir(root_directory):\n",
    "    if 'FSEOF' in folder_name:\n",
    "        folder_path = os.path.join(root_directory, folder_name)\n",
    "        \n",
    "        # Set the path for results_S.xlsx\n",
    "        result_file_path = os.path.join(folder_path, 'results_S.xlsx')\n",
    "        \n",
    "        # Set the path for df_et (assuming it's also in the same folder, adjust file name as needed)\n",
    "        df_et_file_path = os.path.join(folder_path, 'results_SET.xlsx')  # Adjust based on actual file name\n",
    "        \n",
    "        # Check if the result files exist\n",
    "        if os.path.isfile(result_file_path) and os.path.isfile(df_et_file_path):\n",
    "            # Read the Excel file\n",
    "            df = pd.read_excel(result_file_path)\n",
    "\n",
    "            # Get the desired columns\n",
    "            target_columns = df.iloc[:, 2:12]\n",
    "\n",
    "            # Define the check function\n",
    "            def is_monotonic(column):\n",
    "                \"\"\"Check if the column is monotonically increasing or decreasing\"\"\"\n",
    "                is_increasing = all(column[i] <= column[i + 1] for i in range(len(column) - 1))\n",
    "                is_decreasing = all(column[i] >= column[i + 1] for i in range(len(column) - 1))\n",
    "                return is_increasing or is_decreasing\n",
    "\n",
    "            def has_opposite_signs(column):\n",
    "                \"\"\"Check if there are adjacent elements with opposite signs\"\"\"\n",
    "                return any(column[i] * column[i + 1] < 0 for i in range(len(column) - 1))\n",
    "\n",
    "            # Mark the monotonic rows\n",
    "            monotonic_rows = target_columns.apply(is_monotonic, axis=1)\n",
    "\n",
    "            # Mark the rows with opposite signs among the monotonic rows\n",
    "            filtered_rows = target_columns[monotonic_rows].apply(has_opposite_signs, axis=1)\n",
    "\n",
    "            # Create a new column 'explam' and initialize it to 'no'\n",
    "            df['explam'] = 'no'\n",
    "\n",
    "            # Mark the rows that meet the conditions\n",
    "            df.loc[filtered_rows[filtered_rows].index, 'explam'] = 'yes'\n",
    "\n",
    "            # Extract rows where 'explam' is 'yes'\n",
    "            filtered_df = df[df['explam'] == 'yes']\n",
    "            filtered_df.rename(columns={'gpr': 'gene'}, inplace=True)\n",
    "            reaction = filtered_df['reaction'].to_list()\n",
    "\n",
    "            # Read the df_et Excel file\n",
    "            df_et = pd.read_excel(df_et_file_path)\n",
    "            df_et['reaction_name'] = df_et['gene = 0.0'].str.extract(r'(\\w+)\\s*\\(')\n",
    "            gene_df = df_et[df_et['reaction_name'].isin(reaction)]\n",
    "\n",
    "            # Merge the data\n",
    "            merged_df_nrd = pd.merge(filtered_df, gene_df, on='gene', how='left')\n",
    "            merged_df_nrd['type'] = 'Non-unique Reaction Direction'\n",
    "\n",
    "            # Save the results\n",
    "            output_file_path = os.path.join(folder_path, 'filtered_results.xlsx')\n",
    "            merged_df_nrd.to_excel(output_file_path, index=False)\n",
    "\n",
    "            # Output the number of rows\n",
    "            print(f'Processed: {result_file_path} -> {output_file_path}, Number of rows: {len(merged_df_nrd)}')\n"
   ]
  }
 ],
 "metadata": {
  "kernelspec": {
   "display_name": "autoETGEMs",
   "language": "python",
   "name": "python3"
  },
  "language_info": {
   "codemirror_mode": {
    "name": "ipython",
    "version": 3
   },
   "file_extension": ".py",
   "mimetype": "text/x-python",
   "name": "python",
   "nbconvert_exporter": "python",
   "pygments_lexer": "ipython3",
   "version": "3.8.0"
  }
 },
 "nbformat": 4,
 "nbformat_minor": 2
}
