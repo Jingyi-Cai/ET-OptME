{
 "cells": [
  {
   "cell_type": "markdown",
   "metadata": {},
   "source": [
    "## Import package"
   ]
  },
  {
   "cell_type": "code",
   "execution_count": 2,
   "metadata": {},
   "outputs": [],
   "source": [
    "import sys\n",
    "sys.path.append('/home/sun/ETGEMS-10.20/ET_OptME/script')\n",
    "import ETGEMs_function_protain as etgf\n",
    "from ETGEMs_function_protain import *\n",
    "from ET_optme import *\n",
    "import pandas as pd\n",
    "import cobra\n",
    "import gurobipy\n",
    "import json\n",
    "import multiprocessing\n",
    "import os\n",
    "from multiprocessing import Pool\n",
    "from sympy import subsets\n",
    "import pandas as pd\n",
    "import matplotlib.pyplot as plt\n",
    "import re"
   ]
  },
  {
   "cell_type": "markdown",
   "metadata": {},
   "source": [
    "## setting path for models and data, example: C.glutamicum --->L_Lyscine"
   ]
  },
  {
   "cell_type": "code",
   "execution_count": null,
   "metadata": {},
   "outputs": [],
   "source": [
    "model_file = \"./data/lys.json\"\n",
    "model0_file = './task/iCW773_uniprot_modification_del.json'\n",
    "reaction_kcat_MW_file = './data/reaction_change_by_enzuse_PDH_n.csv'\n",
    "dictionarymodel_path = './result/dictionarymodel_icw.json'\n",
    "reaction_g0_file=os.path.join('./task/iCW773_uniprot_modification_del_reaction_g0.csv')\n",
    "metabolites_lnC_file = os.path.join('./task/metabolites_lnC_cg1.txt')\n",
    "path_results = './result'\n",
    "savepath = './result/picture'"
   ]
  },
  {
   "cell_type": "code",
   "execution_count": null,
   "metadata": {},
   "outputs": [],
   "source": [
    "model.reactions.EX_hom__L_e"
   ]
  },
  {
   "cell_type": "code",
   "execution_count": 59,
   "metadata": {},
   "outputs": [],
   "source": [
    "# model、substrate、product、oxygence\n",
    "inputdic = {\"model\":'lys.json',\n",
    "\"substrate\":\"EX_glc_e_reverse\",\n",
    "\"biomass\": \"CG_biomass_cgl_ATCC13032\",\n",
    " \"product\": \"EX_lys_L_e\",\n",
    "\"taskname\": \"FSEOF\",\n",
    "\"mode\":\"SET\",\n",
    "\"oxygenstate\":\"aerobic\"}\n",
    "# save task.json\n",
    "with open('/home/sun/ETGEMS-10.20/ET_OptME/data/task_fseof.json', 'w') as json_file:\n",
    "    json.dump(inputdic, json_file, indent=4)\n",
    "path_strain = 'iCW'"
   ]
  },
  {
   "cell_type": "markdown",
   "metadata": {},
   "source": [
    "## invoke ET-FSEOF and run the task "
   ]
  },
  {
   "cell_type": "markdown",
   "metadata": {},
   "source": [
    "## 1.enzyme-thermo Model Construction"
   ]
  },
  {
   "cell_type": "code",
   "execution_count": 6,
   "metadata": {},
   "outputs": [],
   "source": [
    "# Read the model\n",
    "model = cobra.io.load_json_model(model_file)\n",
    "\n",
    "# Load the model data into Get_Concretemodel_Need_Data\n",
    "Concretemodel_Need_Data = Get_Concretemodel_Need_Data(model_file)\n",
    "\n",
    "model0 = cobra.io.load_json_model(model0_file)\n",
    "\n",
    "# Store the protein-centered model as a dictionary\n",
    "dictionary_model = json_load(dictionarymodel_path)\n",
    "dictionary_model.keys()\n",
    "rname3 = []\n",
    "\n",
    "# Store the protein-centered dictionary into Get_Concretemodel_Need_Data\n",
    "get_dictionarymodel_data2(dictionary_model, Concretemodel_Need_Data, rname3)\n",
    "\n",
    "# Load thermodynamic data into Get_Concretemodel_Need_Data\n",
    "Get_Concretemodel_Need_Data_g0(Concretemodel_Need_Data, reaction_g0_file, metabolites_lnC_file, reaction_kcat_MW_file)\n",
    "\n",
    "Concretemodel_Need_Data['reaction_g0']['g0'] = Concretemodel_Need_Data['reaction_g0']['g0'].replace(0, np.nan)\n",
    "Concretemodel_Need_Data['reaction_g0'].dropna(subset=['g0'], inplace=True)\n",
    "\n",
    "Concretemodel_Need_Data['reaction_g0'].at['AIRC3_reverse', 'g0'] = 0\n",
    "Concretemodel_Need_Data['reaction_g0'].at['ATPS4rpp_reverse_num2', 'g0'] = 0\n",
    "\n",
    "Inc = Concretemodel_Need_Data['metabolites_lnC']\n",
    "for i in Concretemodel_Need_Data['metabolite_list']:\n",
    "    if i not in Inc.index:\n",
    "        Inc.loc[i, 'lnClb'] = -14.508658\n",
    "        Inc.loc[i, 'lnCub'] = -3.912023\n",
    "\n",
    "Concretemodel_Need_Data['metabolites_lnC'] = Inc\n",
    "\n",
    "# Modify the model's oxygen conditions\n",
    "if inputdic['oxygenstate'] == 'aerobic':\n",
    "    model.reactions.get_by_id('EX_o2_e_reverse').upper_bound = 1000\n",
    "if inputdic['oxygenstate'] == 'micro_aerobic': \n",
    "    model.reactions.get_by_id('EX_o2_e_reverse').upper_bound = 2 \n",
    "if inputdic['oxygenstate'] == 'anaerobic': \n",
    "    model.reactions.get_by_id('EX_o2_e_reverse').upper_bound = 0\n"
   ]
  },
  {
   "cell_type": "markdown",
   "metadata": {},
   "source": [
    "## 2.Algorithm :  ET-FSEOF"
   ]
  },
  {
   "cell_type": "code",
   "execution_count": 60,
   "metadata": {},
   "outputs": [
    {
     "name": "stdout",
     "output_type": "stream",
     "text": [
      "3.1133333333333355\n"
     ]
    }
   ],
   "source": [
    "# Calculate the maximum production rate\n",
    "product,objvalue2 = calculate_product_fseof(Concretemodel_Need_Data,inputdic,model)"
   ]
  },
  {
   "cell_type": "code",
   "execution_count": 63,
   "metadata": {},
   "outputs": [
    {
     "name": "stdout",
     "output_type": "stream",
     "text": [
      "0.42872386022140374\n",
      "0.42872386022140374\n",
      "0.4287238602214051\n",
      "0.11262431627631908\n",
      "0.4139507194998477\n",
      "0.3912038284231643\n",
      "0.3912038284231643\n",
      "0.3896240376106068\n",
      "0.10537624124454939\n",
      "0.37600217195232827\n",
      "0.3547557975334458\n",
      "0.3547557975334458\n",
      "0.3516413527886898\n",
      "0.09988445223886985\n",
      "0.34338956406789195\n",
      "0.3172357657352062\n",
      "0.3172357657352062\n",
      "0.31254153017789255\n",
      "0.09501891756821382\n",
      "0.31140669735144566\n",
      "0.27665485152741537\n",
      "0.27665485152741537\n",
      "0.26936454098306195\n",
      "0.08978087474617698\n",
      "0.2671622422467829\n",
      "0.232741296165147\n",
      "0.232741296165147\n",
      "0.22360199381606666\n",
      "0.08460737149525731\n",
      "0.21628053059343197\n",
      "0.18882774080287898\n",
      "0.18882774080287898\n",
      "0.1778394466490717\n",
      "0.08208369627578309\n",
      "0.17155937098518118\n",
      "0.14616885845096103\n",
      "0.14616885845096103\n",
      "0.1333844008297048\n",
      "0.08023566792190913\n",
      "0.12958637127024517\n",
      "0.09051473234712097\n",
      "0.09051473234712097\n",
      "0.06970041409587022\n",
      "0.07362417497880423\n",
      "0.07150331490133308\n",
      "0.02983761325728341\n",
      "0.02983761325728341\n",
      "0.006468468939087135\n",
      "0.06682880535373899\n",
      "0.010435930073818591\n"
     ]
    }
   ],
   "source": [
    "# Calculating the growth rate under the maximum production rate.\n",
    "FSEOFdf,reactiondf = biomass(product,inputdic,Concretemodel_Need_Data,objvalue2,model,model0)"
   ]
  },
  {
   "cell_type": "markdown",
   "metadata": {},
   "source": [
    "## Analyze the result and generate table and figure"
   ]
  },
  {
   "cell_type": "code",
   "execution_count": 64,
   "metadata": {},
   "outputs": [],
   "source": [
    "columns = FSEOFdf.columns\n",
    "sorted_columns = sorted(columns, key=lambda x: get_sort_key(x, FSEOFdf))\n",
    "sorted_FSEOFdf = FSEOFdf[sorted_columns]\n"
   ]
  },
  {
   "cell_type": "code",
   "execution_count": 65,
   "metadata": {},
   "outputs": [],
   "source": [
    "FSEOFdf = sorted_FSEOFdf[['gene'] + [col for col in sorted_columns if col != 'gene']]"
   ]
  },
  {
   "cell_type": "code",
   "execution_count": 52,
   "metadata": {},
   "outputs": [],
   "source": [
    "FSEOFdf =detail(FSEOFdf)"
   ]
  },
  {
   "cell_type": "code",
   "execution_count": 49,
   "metadata": {},
   "outputs": [],
   "source": [
    "FSEOFdf =result(FSEOFdf)"
   ]
  },
  {
   "cell_type": "code",
   "execution_count": 13,
   "metadata": {},
   "outputs": [],
   "source": [
    "output_fseof(path_results,inputdic,reactiondf,FSEOFdf)"
   ]
  },
  {
   "cell_type": "markdown",
   "metadata": {},
   "source": [
    "## Analysic results\n"
   ]
  },
  {
   "cell_type": "markdown",
   "metadata": {},
   "source": [
    "## 1.Algorithm Advantage Case Analysis"
   ]
  },
  {
   "cell_type": "code",
   "execution_count": null,
   "metadata": {},
   "outputs": [],
   "source": [
    "# Non-unique Reaction Direction\n",
    "df_mdh = pd.read_excel('./result/ET_Optme/result/F_hom/results_S.xlsx') "
   ]
  },
  {
   "cell_type": "code",
   "execution_count": 15,
   "metadata": {},
   "outputs": [
    {
     "data": {
      "text/html": [
       "<div>\n",
       "<style scoped>\n",
       "    .dataframe tbody tr th:only-of-type {\n",
       "        vertical-align: middle;\n",
       "    }\n",
       "\n",
       "    .dataframe tbody tr th {\n",
       "        vertical-align: top;\n",
       "    }\n",
       "\n",
       "    .dataframe thead th {\n",
       "        text-align: right;\n",
       "    }\n",
       "</style>\n",
       "<table border=\"1\" class=\"dataframe\">\n",
       "  <thead>\n",
       "    <tr style=\"text-align: right;\">\n",
       "      <th></th>\n",
       "      <th>Unnamed: 0</th>\n",
       "      <th>reaction</th>\n",
       "      <th>product = 0.0</th>\n",
       "      <th>product = 0.76</th>\n",
       "      <th>product = 1.51</th>\n",
       "      <th>product = 2.27</th>\n",
       "      <th>product = 3.02</th>\n",
       "      <th>product = 3.78</th>\n",
       "      <th>product = 4.54</th>\n",
       "      <th>product = 5.29</th>\n",
       "      <th>product = 6.05</th>\n",
       "      <th>product = 6.8</th>\n",
       "      <th>manipulation</th>\n",
       "      <th>gpr</th>\n",
       "      <th>direction</th>\n",
       "      <th>mean_flux</th>\n",
       "      <th>result</th>\n",
       "      <th>flux_mean</th>\n",
       "    </tr>\n",
       "  </thead>\n",
       "  <tbody>\n",
       "    <tr>\n",
       "      <th>0</th>\n",
       "      <td>206</td>\n",
       "      <td>ATPS4rpp</td>\n",
       "      <td>29.936873</td>\n",
       "      <td>27.479689</td>\n",
       "      <td>25.054837</td>\n",
       "      <td>22.597654</td>\n",
       "      <td>20.172802</td>\n",
       "      <td>17.715619</td>\n",
       "      <td>15.258435</td>\n",
       "      <td>12.833583</td>\n",
       "      <td>10.417388</td>\n",
       "      <td>8.251613</td>\n",
       "      <td>down</td>\n",
       "      <td>cg1362 and cg1362 and cg1364 and cg1365 and cg...</td>\n",
       "      <td>0</td>\n",
       "      <td>27.479689</td>\n",
       "      <td>0.381982</td>\n",
       "      <td>19.094243</td>\n",
       "    </tr>\n",
       "    <tr>\n",
       "      <th>1</th>\n",
       "      <td>461</td>\n",
       "      <td>EX_h2o(e)</td>\n",
       "      <td>20.515270</td>\n",
       "      <td>19.298782</td>\n",
       "      <td>18.098301</td>\n",
       "      <td>16.881813</td>\n",
       "      <td>15.681331</td>\n",
       "      <td>14.464843</td>\n",
       "      <td>13.248355</td>\n",
       "      <td>12.047873</td>\n",
       "      <td>10.840628</td>\n",
       "      <td>9.698565</td>\n",
       "      <td>NaN</td>\n",
       "      <td>NaN</td>\n",
       "      <td>0</td>\n",
       "      <td>19.298782</td>\n",
       "      <td>0.562696</td>\n",
       "      <td>15.106918</td>\n",
       "    </tr>\n",
       "    <tr>\n",
       "      <th>2</th>\n",
       "      <td>272</td>\n",
       "      <td>CYTBO3_4pp</td>\n",
       "      <td>18.618017</td>\n",
       "      <td>17.139455</td>\n",
       "      <td>15.680348</td>\n",
       "      <td>14.201786</td>\n",
       "      <td>12.742679</td>\n",
       "      <td>11.264117</td>\n",
       "      <td>9.785555</td>\n",
       "      <td>8.326448</td>\n",
       "      <td>6.888211</td>\n",
       "      <td>5.683984</td>\n",
       "      <td>down</td>\n",
       "      <td>cg2406 and cg2409 and cg2780</td>\n",
       "      <td>0</td>\n",
       "      <td>17.139455</td>\n",
       "      <td>0.406289</td>\n",
       "      <td>12.151001</td>\n",
       "    </tr>\n",
       "    <tr>\n",
       "      <th>3</th>\n",
       "      <td>658</td>\n",
       "      <td>NADH16pp</td>\n",
       "      <td>16.431547</td>\n",
       "      <td>15.230516</td>\n",
       "      <td>14.045287</td>\n",
       "      <td>12.844256</td>\n",
       "      <td>11.659027</td>\n",
       "      <td>10.457996</td>\n",
       "      <td>9.256964</td>\n",
       "      <td>8.071736</td>\n",
       "      <td>6.870284</td>\n",
       "      <td>5.682397</td>\n",
       "      <td>down</td>\n",
       "      <td>cg0326</td>\n",
       "      <td>0</td>\n",
       "      <td>15.230516</td>\n",
       "      <td>0.451228</td>\n",
       "      <td>11.056972</td>\n",
       "    </tr>\n",
       "    <tr>\n",
       "      <th>4</th>\n",
       "      <td>1169</td>\n",
       "      <td>GAPD</td>\n",
       "      <td>8.109358</td>\n",
       "      <td>7.934339</td>\n",
       "      <td>7.761623</td>\n",
       "      <td>7.586603</td>\n",
       "      <td>7.413887</td>\n",
       "      <td>7.238867</td>\n",
       "      <td>7.063848</td>\n",
       "      <td>6.891132</td>\n",
       "      <td>6.751086</td>\n",
       "      <td>6.799428</td>\n",
       "      <td>unchanged</td>\n",
       "      <td>cg1069 or cg1791</td>\n",
       "      <td>0</td>\n",
       "      <td>7.934339</td>\n",
       "      <td>0.858701</td>\n",
       "      <td>7.454393</td>\n",
       "    </tr>\n",
       "    <tr>\n",
       "      <th>...</th>\n",
       "      <td>...</td>\n",
       "      <td>...</td>\n",
       "      <td>...</td>\n",
       "      <td>...</td>\n",
       "      <td>...</td>\n",
       "      <td>...</td>\n",
       "      <td>...</td>\n",
       "      <td>...</td>\n",
       "      <td>...</td>\n",
       "      <td>...</td>\n",
       "      <td>...</td>\n",
       "      <td>...</td>\n",
       "      <td>...</td>\n",
       "      <td>...</td>\n",
       "      <td>...</td>\n",
       "      <td>...</td>\n",
       "      <td>...</td>\n",
       "      <td>...</td>\n",
       "    </tr>\n",
       "    <tr>\n",
       "      <th>1200</th>\n",
       "      <td>201</td>\n",
       "      <td>ASPTA</td>\n",
       "      <td>-0.869108</td>\n",
       "      <td>-1.526145</td>\n",
       "      <td>-2.174537</td>\n",
       "      <td>-2.831574</td>\n",
       "      <td>-3.479966</td>\n",
       "      <td>-4.137003</td>\n",
       "      <td>-4.794040</td>\n",
       "      <td>-5.442432</td>\n",
       "      <td>-6.098622</td>\n",
       "      <td>-6.741661</td>\n",
       "      <td>NaN</td>\n",
       "      <td>cg0294</td>\n",
       "      <td>1</td>\n",
       "      <td>-1.526145</td>\n",
       "      <td>4.000779</td>\n",
       "      <td>-3.805385</td>\n",
       "    </tr>\n",
       "    <tr>\n",
       "      <th>1201</th>\n",
       "      <td>444</td>\n",
       "      <td>EX_glc(e)</td>\n",
       "      <td>-5.000000</td>\n",
       "      <td>-5.000000</td>\n",
       "      <td>-5.000000</td>\n",
       "      <td>-5.000000</td>\n",
       "      <td>-5.000000</td>\n",
       "      <td>-5.000000</td>\n",
       "      <td>-5.000000</td>\n",
       "      <td>-5.000000</td>\n",
       "      <td>-5.000000</td>\n",
       "      <td>-5.000000</td>\n",
       "      <td>NaN</td>\n",
       "      <td>NaN</td>\n",
       "      <td>0</td>\n",
       "      <td>-5.000000</td>\n",
       "      <td>1.000000</td>\n",
       "      <td>-5.000000</td>\n",
       "    </tr>\n",
       "    <tr>\n",
       "      <th>1202</th>\n",
       "      <td>487</td>\n",
       "      <td>EX_nh4(e)</td>\n",
       "      <td>-3.767905</td>\n",
       "      <td>-4.106872</td>\n",
       "      <td>-4.441378</td>\n",
       "      <td>-4.780345</td>\n",
       "      <td>-5.114851</td>\n",
       "      <td>-5.453818</td>\n",
       "      <td>-5.792785</td>\n",
       "      <td>-6.127291</td>\n",
       "      <td>-6.462586</td>\n",
       "      <td>-6.773885</td>\n",
       "      <td>NaN</td>\n",
       "      <td>NaN</td>\n",
       "      <td>1</td>\n",
       "      <td>-4.106872</td>\n",
       "      <td>1.572225</td>\n",
       "      <td>-5.270895</td>\n",
       "    </tr>\n",
       "    <tr>\n",
       "      <th>1203</th>\n",
       "      <td>493</td>\n",
       "      <td>EX_o2(e)</td>\n",
       "      <td>-9.314964</td>\n",
       "      <td>-8.575030</td>\n",
       "      <td>-7.844831</td>\n",
       "      <td>-7.104897</td>\n",
       "      <td>-6.374698</td>\n",
       "      <td>-5.634764</td>\n",
       "      <td>-4.894830</td>\n",
       "      <td>-4.164631</td>\n",
       "      <td>-3.444853</td>\n",
       "      <td>-2.842058</td>\n",
       "      <td>NaN</td>\n",
       "      <td>NaN</td>\n",
       "      <td>1</td>\n",
       "      <td>-8.575030</td>\n",
       "      <td>0.406124</td>\n",
       "      <td>-6.078511</td>\n",
       "    </tr>\n",
       "    <tr>\n",
       "      <th>1204</th>\n",
       "      <td>998</td>\n",
       "      <td>H2Otpp</td>\n",
       "      <td>-20.515270</td>\n",
       "      <td>-19.298782</td>\n",
       "      <td>-18.098301</td>\n",
       "      <td>-16.881813</td>\n",
       "      <td>-15.681331</td>\n",
       "      <td>-14.464843</td>\n",
       "      <td>-13.248355</td>\n",
       "      <td>-12.047873</td>\n",
       "      <td>-10.840628</td>\n",
       "      <td>-9.698565</td>\n",
       "      <td>NaN</td>\n",
       "      <td>NaN</td>\n",
       "      <td>1</td>\n",
       "      <td>-19.298782</td>\n",
       "      <td>0.562696</td>\n",
       "      <td>-15.106918</td>\n",
       "    </tr>\n",
       "  </tbody>\n",
       "</table>\n",
       "<p>1205 rows × 18 columns</p>\n",
       "</div>"
      ],
      "text/plain": [
       "      Unnamed: 0    reaction  product = 0.0  product = 0.76  product = 1.51  \\\n",
       "0            206    ATPS4rpp      29.936873       27.479689       25.054837   \n",
       "1            461   EX_h2o(e)      20.515270       19.298782       18.098301   \n",
       "2            272  CYTBO3_4pp      18.618017       17.139455       15.680348   \n",
       "3            658    NADH16pp      16.431547       15.230516       14.045287   \n",
       "4           1169        GAPD       8.109358        7.934339        7.761623   \n",
       "...          ...         ...            ...             ...             ...   \n",
       "1200         201       ASPTA      -0.869108       -1.526145       -2.174537   \n",
       "1201         444   EX_glc(e)      -5.000000       -5.000000       -5.000000   \n",
       "1202         487   EX_nh4(e)      -3.767905       -4.106872       -4.441378   \n",
       "1203         493    EX_o2(e)      -9.314964       -8.575030       -7.844831   \n",
       "1204         998      H2Otpp     -20.515270      -19.298782      -18.098301   \n",
       "\n",
       "      product = 2.27  product = 3.02  product = 3.78  product = 4.54  \\\n",
       "0          22.597654       20.172802       17.715619       15.258435   \n",
       "1          16.881813       15.681331       14.464843       13.248355   \n",
       "2          14.201786       12.742679       11.264117        9.785555   \n",
       "3          12.844256       11.659027       10.457996        9.256964   \n",
       "4           7.586603        7.413887        7.238867        7.063848   \n",
       "...              ...             ...             ...             ...   \n",
       "1200       -2.831574       -3.479966       -4.137003       -4.794040   \n",
       "1201       -5.000000       -5.000000       -5.000000       -5.000000   \n",
       "1202       -4.780345       -5.114851       -5.453818       -5.792785   \n",
       "1203       -7.104897       -6.374698       -5.634764       -4.894830   \n",
       "1204      -16.881813      -15.681331      -14.464843      -13.248355   \n",
       "\n",
       "      product = 5.29  product = 6.05  product = 6.8 manipulation  \\\n",
       "0          12.833583       10.417388       8.251613         down   \n",
       "1          12.047873       10.840628       9.698565          NaN   \n",
       "2           8.326448        6.888211       5.683984         down   \n",
       "3           8.071736        6.870284       5.682397         down   \n",
       "4           6.891132        6.751086       6.799428    unchanged   \n",
       "...              ...             ...            ...          ...   \n",
       "1200       -5.442432       -6.098622      -6.741661          NaN   \n",
       "1201       -5.000000       -5.000000      -5.000000          NaN   \n",
       "1202       -6.127291       -6.462586      -6.773885          NaN   \n",
       "1203       -4.164631       -3.444853      -2.842058          NaN   \n",
       "1204      -12.047873      -10.840628      -9.698565          NaN   \n",
       "\n",
       "                                                    gpr  direction  mean_flux  \\\n",
       "0     cg1362 and cg1362 and cg1364 and cg1365 and cg...          0  27.479689   \n",
       "1                                                   NaN          0  19.298782   \n",
       "2                          cg2406 and cg2409 and cg2780          0  17.139455   \n",
       "3                                                cg0326          0  15.230516   \n",
       "4                                      cg1069 or cg1791          0   7.934339   \n",
       "...                                                 ...        ...        ...   \n",
       "1200                                             cg0294          1  -1.526145   \n",
       "1201                                                NaN          0  -5.000000   \n",
       "1202                                                NaN          1  -4.106872   \n",
       "1203                                                NaN          1  -8.575030   \n",
       "1204                                                NaN          1 -19.298782   \n",
       "\n",
       "        result  flux_mean  \n",
       "0     0.381982  19.094243  \n",
       "1     0.562696  15.106918  \n",
       "2     0.406289  12.151001  \n",
       "3     0.451228  11.056972  \n",
       "4     0.858701   7.454393  \n",
       "...        ...        ...  \n",
       "1200  4.000779  -3.805385  \n",
       "1201  1.000000  -5.000000  \n",
       "1202  1.572225  -5.270895  \n",
       "1203  0.406124  -6.078511  \n",
       "1204  0.562696 -15.106918  \n",
       "\n",
       "[1205 rows x 18 columns]"
      ]
     },
     "execution_count": 15,
     "metadata": {},
     "output_type": "execute_result"
    }
   ],
   "source": [
    "df_mdh"
   ]
  },
  {
   "cell_type": "code",
   "execution_count": 16,
   "metadata": {},
   "outputs": [],
   "source": [
    "MDH = df_mdh[df_mdh['reaction'] == 'MDH']\n"
   ]
  },
  {
   "cell_type": "code",
   "execution_count": 45,
   "metadata": {},
   "outputs": [
    {
     "data": {
      "text/html": [
       "<div>\n",
       "<style scoped>\n",
       "    .dataframe tbody tr th:only-of-type {\n",
       "        vertical-align: middle;\n",
       "    }\n",
       "\n",
       "    .dataframe tbody tr th {\n",
       "        vertical-align: top;\n",
       "    }\n",
       "\n",
       "    .dataframe thead th {\n",
       "        text-align: right;\n",
       "    }\n",
       "</style>\n",
       "<table border=\"1\" class=\"dataframe\">\n",
       "  <thead>\n",
       "    <tr style=\"text-align: right;\">\n",
       "      <th></th>\n",
       "      <th>Unnamed: 0</th>\n",
       "      <th>reaction</th>\n",
       "      <th>product = 0.0</th>\n",
       "      <th>product = 0.76</th>\n",
       "      <th>product = 1.51</th>\n",
       "      <th>product = 2.27</th>\n",
       "      <th>product = 3.02</th>\n",
       "      <th>product = 3.78</th>\n",
       "      <th>product = 4.54</th>\n",
       "      <th>product = 5.29</th>\n",
       "      <th>product = 6.05</th>\n",
       "      <th>product = 6.8</th>\n",
       "      <th>manipulation</th>\n",
       "      <th>gpr</th>\n",
       "      <th>direction</th>\n",
       "      <th>mean_flux</th>\n",
       "      <th>result</th>\n",
       "      <th>flux_mean</th>\n",
       "    </tr>\n",
       "  </thead>\n",
       "  <tbody>\n",
       "    <tr>\n",
       "      <th>42</th>\n",
       "      <td>1107</td>\n",
       "      <td>MDH</td>\n",
       "      <td>2.249648</td>\n",
       "      <td>1.965186</td>\n",
       "      <td>1.684466</td>\n",
       "      <td>1.400003</td>\n",
       "      <td>1.119283</td>\n",
       "      <td>0.834821</td>\n",
       "      <td>0.550358</td>\n",
       "      <td>0.269638</td>\n",
       "      <td>-0.130053</td>\n",
       "      <td>-1.139098</td>\n",
       "      <td>NaN</td>\n",
       "      <td>cg2613</td>\n",
       "      <td>0</td>\n",
       "      <td>1.965186</td>\n",
       "      <td>-0.169429</td>\n",
       "      <td>0.555275</td>\n",
       "    </tr>\n",
       "  </tbody>\n",
       "</table>\n",
       "</div>"
      ],
      "text/plain": [
       "    Unnamed: 0 reaction  product = 0.0  product = 0.76  product = 1.51  \\\n",
       "42        1107      MDH       2.249648        1.965186        1.684466   \n",
       "\n",
       "    product = 2.27  product = 3.02  product = 3.78  product = 4.54  \\\n",
       "42        1.400003        1.119283        0.834821        0.550358   \n",
       "\n",
       "    product = 5.29  product = 6.05  product = 6.8 manipulation     gpr  \\\n",
       "42        0.269638       -0.130053      -1.139098          NaN  cg2613   \n",
       "\n",
       "    direction  mean_flux    result  flux_mean  \n",
       "42          0   1.965186 -0.169429   0.555275  "
      ]
     },
     "execution_count": 45,
     "metadata": {},
     "output_type": "execute_result"
    }
   ],
   "source": [
    "MDH"
   ]
  },
  {
   "cell_type": "code",
   "execution_count": 17,
   "metadata": {},
   "outputs": [],
   "source": [
    "# Convert DataFrame to a nested dictionary\n",
    "result_dict = {}\n",
    "\n",
    "for _, row in MDH.iterrows():\n",
    "    # Extract the reaction ID and strip any whitespace\n",
    "    reaction_id = row[\"reaction\"].strip()\n",
    "    \n",
    "    # Retrieve the reaction equation using PySCeS\n",
    "    reaction_equation = model.reactions.get_by_id(reaction_id).reaction\n",
    "    \n",
    "    # Create a dictionary for the reaction\n",
    "    reaction_dict = {\"reaction\": reaction_equation}\n",
    "    \n",
    "    # Generate a list of 'x' values from 0 to the specified product value\n",
    "    exlist = list(np.linspace(0, product, 10))\n",
    "    exlist = [round(element, 3) for element in exlist]\n",
    "    reaction_dict['x'] = exlist\n",
    "    \n",
    "    # Extract and round 'y' values from specified columns in the DataFrame\n",
    "    y_values = [round(float(row[col]), 3) for col in MDH.columns[2:12]]\n",
    "    reaction_dict['y'] = y_values\n",
    "    \n",
    "    # Add the reaction dictionary to the result dictionary\n",
    "    result_dict[reaction_id] = reaction_dict\n"
   ]
  },
  {
   "cell_type": "code",
   "execution_count": 48,
   "metadata": {},
   "outputs": [
    {
     "data": {
      "text/plain": [
       "'mal__L_c + nad_c --> h_c + nadh_c + oaa_c'"
      ]
     },
     "execution_count": 48,
     "metadata": {},
     "output_type": "execute_result"
    }
   ],
   "source": [
    "reaction"
   ]
  },
  {
   "cell_type": "code",
   "execution_count": 20,
   "metadata": {},
   "outputs": [
    {
     "data": {
      "image/png": "[encoded data removed]",
      "text/plain": [
       "<Figure size 800x500 with 1 Axes>"
      ]
     },
     "metadata": {},
     "output_type": "display_data"
    }
   ],
   "source": [
    "\n",
    "\n",
    "# Set the reaction ID to 'MDH'\n",
    "id = 'MDH'\n",
    "gludy_data = result_dict[id]\n",
    "\n",
    "# Extract data from the nested dictionary\n",
    "reaction = gludy_data['reaction']\n",
    "x_values = gludy_data['x']\n",
    "y_values = gludy_data['y']\n",
    "\n",
    "# Plot the data\n",
    "plt.figure(figsize=(8, 5))  # Set the figure size for better visibility\n",
    "plt.plot(x_values, y_values, marker='o', linestyle='-')\n",
    "plt.xlabel('Product Flux (mmol/gDWh)')\n",
    "plt.ylabel('Reaction Flux (mmol/gDWh)')\n",
    "plt.title(f'{id}: {reaction}')  # Using f-string for cleaner formatting\n",
    "plt.grid(False)  # Enable the grid for better readability\n",
    "plt.tight_layout()  # Adjust layout to fit labels and title\n",
    "plt.savefig(os.path.join(savepath, 'fseof_mdh.svg'))\n",
    "plt.show()\n"
   ]
  },
  {
   "cell_type": "code",
   "execution_count": null,
   "metadata": {},
   "outputs": [],
   "source": [
    "# Non-unique Reaction Direction\n",
    "df_mdh_et = pd.read_excel('./result/ET_Optme/result/F_hom/results_SET.xlsx') "
   ]
  },
  {
   "cell_type": "code",
   "execution_count": 22,
   "metadata": {},
   "outputs": [],
   "source": [
    "MDH_et = df_mdh_et[df_mdh_et['gene'] == 'Cgl2380']\n"
   ]
  },
  {
   "cell_type": "code",
   "execution_count": 23,
   "metadata": {},
   "outputs": [],
   "source": [
    "product = 6.36\n",
    "# Extract data from the nested dictionary\n",
    "result_dict = {}\n",
    "\n",
    "for _, row in MDH_et.iterrows():\n",
    "    reaction_id = row[\"gene\"].strip()\n",
    "    \n",
    "    rt = model.genes.get_by_id('Cgl2380').reactions\n",
    "\n",
    "    reaction_equation = list(rt)[2].reaction\n",
    "    \n",
    "    reaction_dict = {\"reaction\": reaction_equation}\n",
    "    \n",
    "    exlist = list(np.linspace(0,product,10))\n",
    "    exlist = [round(element, 3) for element in exlist]\n",
    "    reaction_dict['x'] = exlist\n",
    "    y_values = [(row[col]) for col in MDH_et.columns[2:12]]\n",
    "    reaction_dict['y'] = y_values\n",
    "    \n",
    "    result_dict[reaction_id] = reaction_dict"
   ]
  },
  {
   "cell_type": "code",
   "execution_count": 24,
   "metadata": {},
   "outputs": [
    {
     "data": {
      "image/png": "[encoded data removed]",
      "text/plain": [
       "<Figure size 640x480 with 1 Axes>"
      ]
     },
     "metadata": {},
     "output_type": "display_data"
    }
   ],
   "source": [
    "\n",
    "gludy_data = result_dict['Cgl2380']\n",
    "reaction = gludy_data['reaction']\n",
    "x_values = gludy_data['x']\n",
    "y_values = gludy_data['y']\n",
    "\n",
    "plt.plot(x_values, y_values, marker='o', linestyle='-')\n",
    "plt.xlabel('Product Flux mmol/gDWh')\n",
    "plt.ylabel('enzyme cost g/gDW')\n",
    "plt.title('Cgl2380'+\":\"+reaction)\n",
    "plt.grid(False)\n",
    "plt.savefig(os.path.join(savepath, 'et_fseof_mdh.svg'))"
   ]
  },
  {
   "cell_type": "code",
   "execution_count": null,
   "metadata": {},
   "outputs": [],
   "source": [
    "pfk_df=pd.read_excel('./result/ET_Optme/result/F_ile/results_S.xlsx')"
   ]
  },
  {
   "cell_type": "code",
   "execution_count": 26,
   "metadata": {},
   "outputs": [],
   "source": [
    "pfk_df = pfk_df[pfk_df['reaction']=='PYRC']"
   ]
  },
  {
   "cell_type": "code",
   "execution_count": 27,
   "metadata": {},
   "outputs": [],
   "source": [
    "pfk_df= pfk_df.drop('Unnamed: 0', axis=1)"
   ]
  },
  {
   "cell_type": "code",
   "execution_count": 28,
   "metadata": {},
   "outputs": [],
   "source": [
    "product = 3.73"
   ]
  },
  {
   "cell_type": "code",
   "execution_count": 29,
   "metadata": {},
   "outputs": [],
   "source": [
    "import numpy as np\n",
    "result_dict = {}\n",
    "\n",
    "for _, row in pfk_df.iterrows():\n",
    "    reaction_id = row[\"reaction\"].strip()\n",
    "\n",
    "    reaction_equation = model.reactions.get_by_id(reaction_id).reaction\n",
    "    \n",
    "    reaction_dict = {\"reaction\": reaction_equation}\n",
    "    \n",
    "    \n",
    "    exlist = list(np.linspace(0,product,10))\n",
    "    exlist = [round(element, 3) for element in exlist]\n",
    "    reaction_dict['x'] = exlist\n",
    "    y_values = [round(float(row[col]),3) for col in pfk_df.columns[2:12]]\n",
    "    reaction_dict['y'] = y_values\n",
    "    \n",
    "    result_dict[reaction_id] = reaction_dict"
   ]
  },
  {
   "cell_type": "code",
   "execution_count": 30,
   "metadata": {},
   "outputs": [
    {
     "data": {
      "image/png": "[encoded data removed]",
      "text/plain": [
       "<Figure size 640x480 with 1 Axes>"
      ]
     },
     "metadata": {},
     "output_type": "display_data"
    }
   ],
   "source": [
    "\n",
    "gludy_data = result_dict['PYRC']\n",
    "reaction = gludy_data['reaction']\n",
    "x_values = gludy_data['x']\n",
    "y_values = gludy_data['y']\n",
    "\n",
    "plt.plot(x_values, y_values, marker='o', linestyle='-')\n",
    "plt.xlabel('Product Flux mmol/gDWh')\n",
    "plt.ylabel('Raction flux mmol/gDWh')\n",
    "plt.title('PYRC'+\":\"+reaction)\n",
    "plt.grid(False)\n",
    "plt.savefig(os.path.join(savepath, 'fseof_pyrc.svg'))\n",
    "plt.show()"
   ]
  },
  {
   "cell_type": "code",
   "execution_count": null,
   "metadata": {},
   "outputs": [],
   "source": [
    "epfk_df = pd.read_excel('./result/ET_Optme/result/F_ile/results_SET.xlsx')"
   ]
  },
  {
   "cell_type": "code",
   "execution_count": 32,
   "metadata": {},
   "outputs": [],
   "source": [
    "epfk_df = epfk_df.drop('Unnamed: 0', axis=1)"
   ]
  },
  {
   "cell_type": "code",
   "execution_count": 33,
   "metadata": {},
   "outputs": [],
   "source": [
    "epfk_df = epfk_df.drop('Unnamed: 0.1', axis=1)"
   ]
  },
  {
   "cell_type": "code",
   "execution_count": 34,
   "metadata": {},
   "outputs": [
    {
     "data": {
      "text/html": [
       "<div>\n",
       "<style scoped>\n",
       "    .dataframe tbody tr th:only-of-type {\n",
       "        vertical-align: middle;\n",
       "    }\n",
       "\n",
       "    .dataframe tbody tr th {\n",
       "        vertical-align: top;\n",
       "    }\n",
       "\n",
       "    .dataframe thead th {\n",
       "        text-align: right;\n",
       "    }\n",
       "</style>\n",
       "<table border=\"1\" class=\"dataframe\">\n",
       "  <thead>\n",
       "    <tr style=\"text-align: right;\">\n",
       "      <th></th>\n",
       "      <th>gene</th>\n",
       "      <th>cond = 0.0</th>\n",
       "      <th>cond = 0.39</th>\n",
       "      <th>cond = 0.77</th>\n",
       "      <th>cond = 1.16</th>\n",
       "      <th>cond = 1.55</th>\n",
       "      <th>cond = 1.93</th>\n",
       "      <th>cond = 2.32</th>\n",
       "      <th>cond = 2.71</th>\n",
       "      <th>cond = 3.1</th>\n",
       "      <th>...</th>\n",
       "      <th>sum=0.39</th>\n",
       "      <th>sum=0.77</th>\n",
       "      <th>sum=1.16</th>\n",
       "      <th>sum=1.55</th>\n",
       "      <th>sum=1.93</th>\n",
       "      <th>sum=2.32</th>\n",
       "      <th>sum=2.71</th>\n",
       "      <th>sum=3.1</th>\n",
       "      <th>sum=3.48</th>\n",
       "      <th>mean_fluxs</th>\n",
       "    </tr>\n",
       "  </thead>\n",
       "  <tbody>\n",
       "    <tr>\n",
       "      <th>123</th>\n",
       "      <td>Cgl0689</td>\n",
       "      <td>0.000058</td>\n",
       "      <td>0.00007</td>\n",
       "      <td>0.000081</td>\n",
       "      <td>0.000093</td>\n",
       "      <td>0.000105</td>\n",
       "      <td>0.000116</td>\n",
       "      <td>0.000128</td>\n",
       "      <td>0.00016</td>\n",
       "      <td>0.000225</td>\n",
       "      <td>...</td>\n",
       "      <td>1.452533</td>\n",
       "      <td>1.690991</td>\n",
       "      <td>1.935724</td>\n",
       "      <td>2.180458</td>\n",
       "      <td>2.418916</td>\n",
       "      <td>2.663649</td>\n",
       "      <td>3.329631</td>\n",
       "      <td>4.683673</td>\n",
       "      <td>6.002996</td>\n",
       "      <td>2.911521</td>\n",
       "    </tr>\n",
       "  </tbody>\n",
       "</table>\n",
       "<p>1 rows × 33 columns</p>\n",
       "</div>"
      ],
      "text/plain": [
       "        gene  cond = 0.0  cond = 0.39  cond = 0.77  cond = 1.16  cond = 1.55  \\\n",
       "123  Cgl0689    0.000058      0.00007     0.000081     0.000093     0.000105   \n",
       "\n",
       "     cond = 1.93  cond = 2.32  cond = 2.71  cond = 3.1  ...  sum=0.39  \\\n",
       "123     0.000116     0.000128      0.00016    0.000225  ...  1.452533   \n",
       "\n",
       "     sum=0.77  sum=1.16  sum=1.55  sum=1.93  sum=2.32  sum=2.71   sum=3.1  \\\n",
       "123  1.690991  1.935724  2.180458  2.418916  2.663649  3.329631  4.683673   \n",
       "\n",
       "     sum=3.48 mean_fluxs  \n",
       "123  6.002996   2.911521  \n",
       "\n",
       "[1 rows x 33 columns]"
      ]
     },
     "execution_count": 34,
     "metadata": {},
     "output_type": "execute_result"
    }
   ],
   "source": [
    "epfk_df[epfk_df['gene']=='Cgl0689']"
   ]
  },
  {
   "cell_type": "code",
   "execution_count": 35,
   "metadata": {},
   "outputs": [],
   "source": [
    "import numpy as np\n",
    "\n",
    "result_dict = {}\n",
    "\n",
    "for _, row in epfk_df.iterrows():\n",
    "    reaction_id = row[\"gene\"].strip()\n",
    "    \n",
    "    rt = model.genes.get_by_id('Cgl0689').reactions\n",
    "\n",
    "    reaction_equation = list(rt)[0].reaction\n",
    "    reaction_dict = {\"reaction\": reaction_equation}\n",
    "    \n",
    "    \n",
    "    exlist = list(np.linspace(0,product,10))\n",
    "    exlist = [round(element, 3) for element in exlist]\n",
    "    reaction_dict['x'] = exlist\n",
    "    y_values = [(row[col]) for col in epfk_df.columns[1:11]]\n",
    "    reaction_dict['y'] = y_values\n",
    "    \n",
    "    result_dict[reaction_id] = reaction_dict"
   ]
  },
  {
   "cell_type": "code",
   "execution_count": 36,
   "metadata": {},
   "outputs": [
    {
     "data": {
      "image/png": "[encoded data removed]",
      "text/plain": [
       "<Figure size 640x480 with 1 Axes>"
      ]
     },
     "metadata": {},
     "output_type": "display_data"
    }
   ],
   "source": [
    "\n",
    "gludy_data = result_dict['Cgl0689']\n",
    "reaction = gludy_data['reaction']\n",
    "x_values = gludy_data['x']\n",
    "y_values = gludy_data['y']\n",
    "\n",
    "plt.plot(x_values, y_values, marker='o', linestyle='-')\n",
    "plt.xlabel('Product Flux mmol/gDWh')\n",
    "plt.ylabel('enzyme cost g/gDW ')\n",
    "plt.title('Cgl0689:'+'PYRC'+\":\"+reaction)\n",
    "plt.grid(False)\n",
    "plt.savefig(os.path.join(savepath, 'et_fseof_pyrc.svg'))\n",
    "plt.show()"
   ]
  }
 ],
 "metadata": {
  "kernelspec": {
   "display_name": "autoETGEMs",
   "language": "python",
   "name": "python3"
  },
  "language_info": {
   "codemirror_mode": {
    "name": "ipython",
    "version": 3
   },
   "file_extension": ".py",
   "mimetype": "text/x-python",
   "name": "python",
   "nbconvert_exporter": "python",
   "pygments_lexer": "ipython3",
   "version": "3.8.0"
  }
 },
 "nbformat": 4,
 "nbformat_minor": 2
}
