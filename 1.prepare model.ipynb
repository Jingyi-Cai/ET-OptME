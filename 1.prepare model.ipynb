{
 "cells": [
  {
   "cell_type": "markdown",
   "metadata": {},
   "source": [
    "## Import package"
   ]
  },
  {
   "cell_type": "code",
   "execution_count": 1,
   "metadata": {},
   "outputs": [],
   "source": [
    "import sys\n",
    "%run  '/home/sun/ETGEMS-10.20/ETGEMs_function_protain.py'\n",
    "import os\n",
    "import pandas as pd\n",
    "import cobra\n",
    "import json\n",
    "import copy\n",
    "from cobra import Model, Reaction, Metabolite"
   ]
  },
  {
   "cell_type": "markdown",
   "metadata": {},
   "source": [
    "## Setting path for models and data"
   ]
  },
  {
   "cell_type": "code",
   "execution_count": null,
   "metadata": {},
   "outputs": [],
   "source": [
    "# data \n",
    "model_file=\"./data/lys.json\" # c.glutamicum model, irreversible and reactions with isoezyme splited\n",
    "reaction_kcat_MW_file='./data/reaction_change_by_enzuse_PDH_n.csv'\n",
    "# results\n",
    "path_results = './result'\n",
    "dictionarymodel_path='./result/dictionarymodel_iCW.json' # dictionary model saving path\n",
    "# case study\n",
    "model0_file = '../data/iCW/iCW773_uniprot_modification_del.json'\n",
    "reaction_g0_file=os.path.join('./task/iCW773_uniprot_modification_del_reaction_g0.csv')\n",
    "metabolites_lnC_file = os.path.join('./task/metabolites_lnC_cg1.txt')"
   ]
  },
  {
   "cell_type": "markdown",
   "metadata": {},
   "source": [
    "## load model and split model"
   ]
  },
  {
   "cell_type": "code",
   "execution_count": 3,
   "metadata": {},
   "outputs": [
    {
     "name": "stdout",
     "output_type": "stream",
     "text": [
      "./lys_irreversible.json\n"
     ]
    }
   ],
   "source": [
    "model=cobra.io.load_json_model(model_file)\n",
    "dictionary_model=trans_model2standard_json_etgem(model_file)\n",
    "[reaction_list,metabolite_list,lb_list,ub_list,coef_matrix]=get_data(model)"
   ]
  },
  {
   "cell_type": "markdown",
   "metadata": {},
   "source": [
    "## get enzyme parameter"
   ]
  },
  {
   "cell_type": "code",
   "execution_count": 4,
   "metadata": {},
   "outputs": [],
   "source": [
    "#get kcat_dict and mw_dict\n",
    "kcat_mw=pd.read_csv(reaction_kcat_MW_file,index_col=0)\n",
    "kcat_dict={}\n",
    "mw_dict={}\n",
    "for i in kcat_mw.index:\n",
    "    if i in model.reactions:\n",
    "        kcat_dict[i]=kcat_mw.loc[i,'kcat_1/h']\n",
    "        enz=str(model.reactions.get_by_id(i).gpr)\n",
    "        flag1=enz.split(' and ')\n",
    "        flag1.sort(key=None, reverse=False)\n",
    "        flag2=' and '.join(flag1)\n",
    "        mw_dict[flag2]=kcat_mw.loc[i,'MW_g/mmol']"
   ]
  },
  {
   "cell_type": "code",
   "execution_count": null,
   "metadata": {},
   "outputs": [
    {
     "data": {
      "text/html": [
       "<div>\n",
       "<style scoped>\n",
       "    .dataframe tbody tr th:only-of-type {\n",
       "        vertical-align: middle;\n",
       "    }\n",
       "\n",
       "    .dataframe tbody tr th {\n",
       "        vertical-align: top;\n",
       "    }\n",
       "\n",
       "    .dataframe thead th {\n",
       "        text-align: right;\n",
       "    }\n",
       "</style>\n",
       "<table border=\"1\" class=\"dataframe\">\n",
       "  <thead>\n",
       "    <tr style=\"text-align: right;\">\n",
       "      <th></th>\n",
       "      <th>kcat_1/h</th>\n",
       "      <th>MW_g/mmol</th>\n",
       "      <th>kcat_MW</th>\n",
       "    </tr>\n",
       "  </thead>\n",
       "  <tbody>\n",
       "    <tr>\n",
       "      <th>ALAR</th>\n",
       "      <td>9.904612e+05</td>\n",
       "      <td>78.346447</td>\n",
       "      <td>12642.069812</td>\n",
       "    </tr>\n",
       "    <tr>\n",
       "      <th>ALATA_L</th>\n",
       "      <td>1.901828e+05</td>\n",
       "      <td>46.748856</td>\n",
       "      <td>4068.179773</td>\n",
       "    </tr>\n",
       "    <tr>\n",
       "      <th>ASNN</th>\n",
       "      <td>9.729920e+05</td>\n",
       "      <td>33.298224</td>\n",
       "      <td>29220.536266</td>\n",
       "    </tr>\n",
       "    <tr>\n",
       "      <th>ASNS1</th>\n",
       "      <td>7.336000e+03</td>\n",
       "      <td>72.387691</td>\n",
       "      <td>101.343197</td>\n",
       "    </tr>\n",
       "    <tr>\n",
       "      <th>ASPT</th>\n",
       "      <td>4.748529e+05</td>\n",
       "      <td>57.567954</td>\n",
       "      <td>8248.562351</td>\n",
       "    </tr>\n",
       "    <tr>\n",
       "      <th>...</th>\n",
       "      <td>...</td>\n",
       "      <td>...</td>\n",
       "      <td>...</td>\n",
       "    </tr>\n",
       "    <tr>\n",
       "      <th>PSERtex_reverse_num4</th>\n",
       "      <td>2.663573e+07</td>\n",
       "      <td>28.237185</td>\n",
       "      <td>943285.533462</td>\n",
       "    </tr>\n",
       "    <tr>\n",
       "      <th>URAt2rpp_reverse_num2</th>\n",
       "      <td>2.663573e+07</td>\n",
       "      <td>66.934412</td>\n",
       "      <td>397937.735374</td>\n",
       "    </tr>\n",
       "    <tr>\n",
       "      <th>PHETA1_reverse_num2</th>\n",
       "      <td>1.026000e+04</td>\n",
       "      <td>79.835554</td>\n",
       "      <td>128.514171</td>\n",
       "    </tr>\n",
       "    <tr>\n",
       "      <th>SHK3Dr_reverse_num2</th>\n",
       "      <td>4.380570e+05</td>\n",
       "      <td>29.304723</td>\n",
       "      <td>14948.341262</td>\n",
       "    </tr>\n",
       "    <tr>\n",
       "      <th>TYRTA_reverse_num2</th>\n",
       "      <td>1.026000e+04</td>\n",
       "      <td>79.835554</td>\n",
       "      <td>128.514171</td>\n",
       "    </tr>\n",
       "  </tbody>\n",
       "</table>\n",
       "<p>1133 rows × 3 columns</p>\n",
       "</div>"
      ],
      "text/plain": [
       "                           kcat_1/h  MW_g/mmol        kcat_MW\n",
       "ALAR                   9.904612e+05  78.346447   12642.069812\n",
       "ALATA_L                1.901828e+05  46.748856    4068.179773\n",
       "ASNN                   9.729920e+05  33.298224   29220.536266\n",
       "ASNS1                  7.336000e+03  72.387691     101.343197\n",
       "ASPT                   4.748529e+05  57.567954    8248.562351\n",
       "...                             ...        ...            ...\n",
       "PSERtex_reverse_num4   2.663573e+07  28.237185  943285.533462\n",
       "URAt2rpp_reverse_num2  2.663573e+07  66.934412  397937.735374\n",
       "PHETA1_reverse_num2    1.026000e+04  79.835554     128.514171\n",
       "SHK3Dr_reverse_num2    4.380570e+05  29.304723   14948.341262\n",
       "TYRTA_reverse_num2     1.026000e+04  79.835554     128.514171\n",
       "\n",
       "[1133 rows x 3 columns]"
      ]
     },
     "execution_count": 19,
     "metadata": {},
     "output_type": "execute_result"
    }
   ],
   "source": [
    "kcat_mw"
   ]
  },
  {
   "cell_type": "markdown",
   "metadata": {},
   "source": [
    "## setting kcat/mw\n"
   ]
  },
  {
   "cell_type": "code",
   "execution_count": 5,
   "metadata": {},
   "outputs": [],
   "source": [
    "def add_parameter(dictionarymodel,kcatdata,kmdata,mwdata):\n",
    "    for enz in dictionarymodel['enzyme']:\n",
    "        if enz in mwdata.keys():\n",
    "            dictionarymodel['enzyme'][enz]['MW']=mwdata[enz]\n",
    "        for rea in dictionarymodel['enzyme'][enz]['reactions']:\n",
    "            if  rea in kcatdata.keys():\n",
    "                dictionarymodel['enzyme'][enz]['reactions'][rea]['kcat']=kcatdata[rea]\n",
    "            if  rea in kmdata.keys():\n",
    "                dictionarymodel['enzyme'][enz]['reactions'][rea]['km']=kmdata[rea]\n",
    "    for enz in mwdata:\n",
    "        if enz not in dictionarymodel['enzyme']:\n",
    "            print(enz)"
   ]
  },
  {
   "cell_type": "code",
   "execution_count": null,
   "metadata": {},
   "outputs": [],
   "source": [
    "add_parameter(dictionary_model,kcat_dict,{},mw_dict)\n",
    "json_write(dictionarymodel_path,dictionary_model)"
   ]
  }
 ],
 "metadata": {
  "kernelspec": {
   "display_name": "autoETGEMs",
   "language": "python",
   "name": "python3"
  },
  "language_info": {
   "codemirror_mode": {
    "name": "ipython",
    "version": 3
   },
   "file_extension": ".py",
   "mimetype": "text/x-python",
   "name": "python",
   "nbconvert_exporter": "python",
   "pygments_lexer": "ipython3",
   "version": "3.8.0"
  }
 },
 "nbformat": 4,
 "nbformat_minor": 2
}
