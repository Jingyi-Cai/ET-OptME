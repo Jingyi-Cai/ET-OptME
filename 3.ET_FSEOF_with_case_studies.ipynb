{
 "cells": [
  {
   "cell_type": "markdown",
   "metadata": {},
   "source": [
    "## Import package"
   ]
  },
  {
   "cell_type": "code",
   "execution_count": 10,
   "metadata": {},
   "outputs": [],
   "source": [
    "import sys\n",
    "sys.path.append('./script')\n",
    "from pyomo_solving import *\n",
    "from ET_optme import *\n",
    "import pandas as pd\n",
    "import cobra\n",
    "import gurobipy\n",
    "import json\n",
    "import multiprocessing\n",
    "import os\n",
    "from multiprocessing import Pool\n",
    "from sympy import subsets\n",
    "import pandas as pd\n",
    "import matplotlib.pyplot as plt\n",
    "import re"
   ]
  },
  {
   "cell_type": "markdown",
   "metadata": {},
   "source": [
    "## setting path for models and data, example: C.glutamicum --->L_Lyscine"
   ]
  },
  {
   "cell_type": "code",
   "execution_count": 11,
   "metadata": {},
   "outputs": [],
   "source": [
    "model_file = \"./file/lys.json\"\n",
    "model0_file = './file/iCW773_uniprot_modification_del.json'\n",
    "reaction_kcat_MW_file = './file/reaction_change_by_enzuse_PDH_n.csv'\n",
    "dictionarymodel_path = './file/dictionarymodel_iCW.json'\n",
    "reaction_g0_file=os.path.join('./file/iCW773_uniprot_modification_del_reaction_g0.csv')\n",
    "metabolites_lnC_file = os.path.join('./file/metabolites_lnC_cg1.txt')\n",
    "path_results = './results'\n",
    "savepath = './results/picture'"
   ]
  },
  {
   "cell_type": "code",
   "execution_count": 12,
   "metadata": {},
   "outputs": [],
   "source": [
    "# model、substrate、product、oxygence\n",
    "inputdic = {\"model\":'lys.json',\n",
    "\"substrate\":\"EX_glc_e_reverse\",\n",
    "\"biomass\": \"CG_biomass_cgl_ATCC13032\",\n",
    " \"product\": \"EX_lys_L_e\",\n",
    "\"taskname\": \"ET-FSEOF\",\n",
    "\"mode\":\"SET\", # here \"SET\" for enzyme-thermo algirithm\n",
    "\"oxygenstate\":\"aerobic\"}\n",
    "# save task.json\n",
    "with open('./results/task_fseof.json', 'w') as json_file:\n",
    "    json.dump(inputdic, json_file, indent=4)\n",
    "path_strain = 'iCW'"
   ]
  },
  {
   "cell_type": "markdown",
   "metadata": {},
   "source": [
    "## invoke ET-FSEOF and run the task "
   ]
  },
  {
   "cell_type": "markdown",
   "metadata": {},
   "source": [
    "## 1.enzyme-thermo Model Construction ( this step may takes 10 minutes)"
   ]
  },
  {
   "cell_type": "code",
   "execution_count": 13,
   "metadata": {},
   "outputs": [],
   "source": [
    "# Read the model\n",
    "model = cobra.io.load_json_model(model_file)\n",
    "\n",
    "# Load the model data into Get_Concretemodel_Need_Data\n",
    "Concretemodel_Need_Data = Get_Concretemodel_Need_Data(model_file)\n",
    "\n",
    "model0 = cobra.io.load_json_model(model0_file)"
   ]
  },
  {
   "cell_type": "code",
   "execution_count": 14,
   "metadata": {},
   "outputs": [],
   "source": [
    "# Store the protein-centered model as a dictionary\n",
    "dictionary_model = json_load(dictionarymodel_path)\n",
    "dictionary_model.keys()\n",
    "rname3 = []\n",
    "\n",
    "# Store the protein-centered dictionary into Get_Concretemodel_Need_Data\n",
    "get_dictionarymodel_data2(dictionary_model, Concretemodel_Need_Data, rname3)\n",
    "\n",
    "# Load thermodynamic data into Get_Concretemodel_Need_Data\n",
    "Get_Concretemodel_Need_Data_g0(Concretemodel_Need_Data, reaction_g0_file, metabolites_lnC_file, reaction_kcat_MW_file)\n",
    "\n",
    "Concretemodel_Need_Data['reaction_g0']['g0'] = Concretemodel_Need_Data['reaction_g0']['g0'].replace(0, np.nan)\n",
    "Concretemodel_Need_Data['reaction_g0'].dropna(subset=['g0'], inplace=True)\n",
    "\n",
    "Concretemodel_Need_Data['reaction_g0'].at['AIRC3_reverse', 'g0'] = 0\n",
    "Concretemodel_Need_Data['reaction_g0'].at['ATPS4rpp_reverse_num2', 'g0'] = 0\n",
    "\n",
    "Inc = Concretemodel_Need_Data['metabolites_lnC']\n",
    "for i in Concretemodel_Need_Data['metabolite_list']:\n",
    "    if i not in Inc.index:\n",
    "        Inc.loc[i, 'lnClb'] = -14.508658\n",
    "        Inc.loc[i, 'lnCub'] = -3.912023\n",
    "\n",
    "Concretemodel_Need_Data['metabolites_lnC'] = Inc\n",
    "\n",
    "# Modify the model's oxygen conditions\n",
    "if inputdic['oxygenstate'] == 'aerobic':\n",
    "    model.reactions.get_by_id('EX_o2_e_reverse').upper_bound = 1000\n",
    "if inputdic['oxygenstate'] == 'micro_aerobic': \n",
    "    model.reactions.get_by_id('EX_o2_e_reverse').upper_bound = 2 \n",
    "if inputdic['oxygenstate'] == 'anaerobic': \n",
    "    model.reactions.get_by_id('EX_o2_e_reverse').upper_bound = 0\n"
   ]
  },
  {
   "cell_type": "markdown",
   "metadata": {},
   "source": [
    "## 2.Algorithm :  ET-FSEOF"
   ]
  },
  {
   "cell_type": "code",
   "execution_count": 15,
   "metadata": {},
   "outputs": [
    {
     "name": "stdout",
     "output_type": "stream",
     "text": [
      "3.1133333333333315\n"
     ]
    }
   ],
   "source": [
    "# Calculate the maximum production rate\n",
    "product,objvalue2 = calculate_product_fseof(Concretemodel_Need_Data,inputdic,model)"
   ]
  },
  {
   "cell_type": "code",
   "execution_count": 16,
   "metadata": {},
   "outputs": [
    {
     "name": "stdout",
     "output_type": "stream",
     "text": [
      "0.42872386022139214\n",
      "0.42872386022139214\n",
      "0.42872386022143827\n",
      "0.11259605704807821\n",
      "0.41400955125699784\n",
      "0.3912038284231641\n",
      "0.3912038284231641\n",
      "0.38962403761059317\n",
      "0.10535609503306301\n",
      "0.3760600205569381\n",
      "0.3547557975334794\n",
      "0.3547557975334794\n",
      "0.3516413527886899\n",
      "0.09985708366597423\n",
      "0.3434148805490105\n",
      "0.3172357657352062\n",
      "0.3172357657352062\n",
      "0.31254153017792735\n",
      "0.0949810832925884\n",
      "0.3114026273409869\n",
      "0.27665485165508297\n",
      "0.27665485165508297\n",
      "0.269364540983065\n",
      "0.08973295540182756\n",
      "0.26715261817734987\n",
      "0.2327200517581727\n",
      "0.2327200517581727\n",
      "0.22360199381606968\n",
      "0.0845502264125159\n",
      "0.21627360309982738\n",
      "0.18882774080288128\n",
      "0.18882774080288128\n",
      "0.1778394466490744\n",
      "0.08201595836278072\n",
      "0.17155165951209456\n",
      "0.14616885845096342\n",
      "0.14616885845096342\n",
      "0.13338440082970907\n",
      "0.08015799056574881\n",
      "0.12957878167516104\n",
      "0.09051473234712093\n",
      "0.09051473234712093\n",
      "0.06970041409587022\n",
      "0.0735359268189304\n",
      "0.07149049460416114\n",
      "0.029837613257577937\n",
      "0.029837613257577937\n",
      "0.006469763745071331\n",
      "0.06673065157802252\n",
      "0.010422417082023183\n"
     ]
    }
   ],
   "source": [
    "# Calculating the growth rate under the maximum production rate.\n",
    "FSEOFdf,reactiondf = biomass(product,inputdic,Concretemodel_Need_Data,objvalue2,model,model0)"
   ]
  },
  {
   "cell_type": "markdown",
   "metadata": {},
   "source": [
    "## Analyze the result and generate table"
   ]
  },
  {
   "cell_type": "code",
   "execution_count": 17,
   "metadata": {},
   "outputs": [],
   "source": [
    "columns = FSEOFdf.columns\n",
    "sorted_columns = sorted(columns, key=lambda x: get_sort_key(x, FSEOFdf))\n",
    "sorted_FSEOFdf = FSEOFdf[sorted_columns]\n",
    "FSEOFdf = sorted_FSEOFdf[['gene'] + [col for col in sorted_columns if col != 'gene']]\n",
    "#  determine the manipulation strategies\n",
    "FSEOFdf =detail(FSEOFdf)\n",
    "#  get the mean flux\n",
    "FSEOFdf =result(FSEOFdf)\n",
    "# save the result table \n",
    "output_fseof(path_results,inputdic,reactiondf,FSEOFdf)"
   ]
  },
  {
   "cell_type": "code",
   "execution_count": 18,
   "metadata": {},
   "outputs": [
    {
     "data": {
      "text/html": [
       "<div>\n",
       "<style scoped>\n",
       "    .dataframe tbody tr th:only-of-type {\n",
       "        vertical-align: middle;\n",
       "    }\n",
       "\n",
       "    .dataframe tbody tr th {\n",
       "        vertical-align: top;\n",
       "    }\n",
       "\n",
       "    .dataframe thead th {\n",
       "        text-align: right;\n",
       "    }\n",
       "</style>\n",
       "<table border=\"1\" class=\"dataframe\">\n",
       "  <thead>\n",
       "    <tr style=\"text-align: right;\">\n",
       "      <th></th>\n",
       "      <th>gene</th>\n",
       "      <th>manipulations</th>\n",
       "    </tr>\n",
       "  </thead>\n",
       "  <tbody>\n",
       "    <tr>\n",
       "      <th>0</th>\n",
       "      <td>Cgl0588</td>\n",
       "      <td>down</td>\n",
       "    </tr>\n",
       "    <tr>\n",
       "      <th>1</th>\n",
       "      <td>Cgl2844</td>\n",
       "      <td>down</td>\n",
       "    </tr>\n",
       "    <tr>\n",
       "      <th>2</th>\n",
       "      <td>Cgl2143</td>\n",
       "      <td>unchanged</td>\n",
       "    </tr>\n",
       "    <tr>\n",
       "      <th>3</th>\n",
       "      <td>Cgl2196</td>\n",
       "      <td>unchanged</td>\n",
       "    </tr>\n",
       "    <tr>\n",
       "      <th>4</th>\n",
       "      <td>Cgl1503</td>\n",
       "      <td>unchanged</td>\n",
       "    </tr>\n",
       "    <tr>\n",
       "      <th>...</th>\n",
       "      <td>...</td>\n",
       "      <td>...</td>\n",
       "    </tr>\n",
       "    <tr>\n",
       "      <th>639</th>\n",
       "      <td>cgtRNA_3566</td>\n",
       "      <td>unchanged</td>\n",
       "    </tr>\n",
       "    <tr>\n",
       "      <th>640</th>\n",
       "      <td>cgtRNA_3568</td>\n",
       "      <td>unchanged</td>\n",
       "    </tr>\n",
       "    <tr>\n",
       "      <th>641</th>\n",
       "      <td>cgtRNA_3569</td>\n",
       "      <td>unchanged</td>\n",
       "    </tr>\n",
       "    <tr>\n",
       "      <th>642</th>\n",
       "      <td>Cgl1629</td>\n",
       "      <td>unchanged</td>\n",
       "    </tr>\n",
       "    <tr>\n",
       "      <th>643</th>\n",
       "      <td>Cgl2127</td>\n",
       "      <td>unchanged</td>\n",
       "    </tr>\n",
       "  </tbody>\n",
       "</table>\n",
       "<p>644 rows × 2 columns</p>\n",
       "</div>"
      ],
      "text/plain": [
       "            gene manipulations\n",
       "0        Cgl0588          down\n",
       "1        Cgl2844          down\n",
       "2        Cgl2143     unchanged\n",
       "3        Cgl2196     unchanged\n",
       "4        Cgl1503     unchanged\n",
       "..           ...           ...\n",
       "639  cgtRNA_3566     unchanged\n",
       "640  cgtRNA_3568     unchanged\n",
       "641  cgtRNA_3569     unchanged\n",
       "642      Cgl1629     unchanged\n",
       "643      Cgl2127     unchanged\n",
       "\n",
       "[644 rows x 2 columns]"
      ]
     },
     "execution_count": 18,
     "metadata": {},
     "output_type": "execute_result"
    }
   ],
   "source": [
    "# show the key results \n",
    "FSEOFdf[['gene', 'manipulations']]"
   ]
  },
  {
   "cell_type": "code",
   "execution_count": null,
   "metadata": {},
   "outputs": [],
   "source": []
  }
 ],
 "metadata": {
  "kernelspec": {
   "display_name": "pyenv",
   "language": "python",
   "name": "python3"
  },
  "language_info": {
   "codemirror_mode": {
    "name": "ipython",
    "version": 3
   },
   "file_extension": ".py",
   "mimetype": "text/x-python",
   "name": "python",
   "nbconvert_exporter": "python",
   "pygments_lexer": "ipython3",
   "version": "3.8.20"
  }
 },
 "nbformat": 4,
 "nbformat_minor": 2
}
